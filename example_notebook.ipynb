{
 "cells": [
  {
   "cell_type": "code",
   "execution_count": 19,
   "metadata": {},
   "outputs": [],
   "source": [
    "import pandas as pd\n",
    "import numpy as np\n",
    "from data_loader import get_reviews\n",
    "import pathlib\n",
    "import matplotlib.pyplot as plt\n",
    "import seaborn as sns\n",
    "%matplotlib inline\n",
    "\n",
    "N_FEATURES = 17\n",
    "DATA_PATH = pathlib.Path('data')"
   ]
  },
  {
   "cell_type": "code",
   "execution_count": 2,
   "metadata": {},
   "outputs": [
    {
     "data": {
      "text/html": [
       "<div>\n",
       "<style scoped>\n",
       "    .dataframe tbody tr th:only-of-type {\n",
       "        vertical-align: middle;\n",
       "    }\n",
       "\n",
       "    .dataframe tbody tr th {\n",
       "        vertical-align: top;\n",
       "    }\n",
       "\n",
       "    .dataframe thead th {\n",
       "        text-align: right;\n",
       "    }\n",
       "</style>\n",
       "<table border=\"1\" class=\"dataframe\">\n",
       "  <thead>\n",
       "    <tr style=\"text-align: right;\">\n",
       "      <th></th>\n",
       "      <th>beer_name</th>\n",
       "      <th>beer_id</th>\n",
       "      <th>brewery_name</th>\n",
       "      <th>brewery_id</th>\n",
       "      <th>style</th>\n",
       "      <th>abv</th>\n",
       "      <th>date</th>\n",
       "      <th>user_name</th>\n",
       "      <th>user_id</th>\n",
       "      <th>appearance</th>\n",
       "      <th>aroma</th>\n",
       "      <th>palate</th>\n",
       "      <th>taste</th>\n",
       "      <th>overall</th>\n",
       "      <th>rating</th>\n",
       "      <th>text</th>\n",
       "      <th>review</th>\n",
       "    </tr>\n",
       "  </thead>\n",
       "  <tbody>\n",
       "    <tr>\n",
       "      <th>0</th>\n",
       "      <td>Legbiter</td>\n",
       "      <td>19827</td>\n",
       "      <td>Strangford Lough Brewing Company Ltd</td>\n",
       "      <td>10093</td>\n",
       "      <td>English Pale Ale</td>\n",
       "      <td>4.8</td>\n",
       "      <td>1360753200</td>\n",
       "      <td>brewdude1982</td>\n",
       "      <td>brewdude1982.691169</td>\n",
       "      <td>4.25</td>\n",
       "      <td>4.5</td>\n",
       "      <td>3.25</td>\n",
       "      <td>3.75</td>\n",
       "      <td>3.75</td>\n",
       "      <td>3.91</td>\n",
       "      <td>This was a 12 oz bottle poured into a snifter....</td>\n",
       "      <td>True</td>\n",
       "    </tr>\n",
       "    <tr>\n",
       "      <th>1</th>\n",
       "      <td>Legbiter</td>\n",
       "      <td>19827</td>\n",
       "      <td>Strangford Lough Brewing Company Ltd</td>\n",
       "      <td>10093</td>\n",
       "      <td>English Pale Ale</td>\n",
       "      <td>4.8</td>\n",
       "      <td>1357729200</td>\n",
       "      <td>AgentMunky</td>\n",
       "      <td>agentmunky.409755</td>\n",
       "      <td>4.0</td>\n",
       "      <td>3.75</td>\n",
       "      <td>3.5</td>\n",
       "      <td>3.5</td>\n",
       "      <td>3.75</td>\n",
       "      <td>3.64</td>\n",
       "      <td>Poured from a 12 ounce bottle into a pilsner g...</td>\n",
       "      <td>True</td>\n",
       "    </tr>\n",
       "    <tr>\n",
       "      <th>2</th>\n",
       "      <td>Legbiter</td>\n",
       "      <td>19827</td>\n",
       "      <td>Strangford Lough Brewing Company Ltd</td>\n",
       "      <td>10093</td>\n",
       "      <td>English Pale Ale</td>\n",
       "      <td>4.8</td>\n",
       "      <td>1353150000</td>\n",
       "      <td>ferrari29</td>\n",
       "      <td>ferrari29.320392</td>\n",
       "      <td>3.0</td>\n",
       "      <td>3.5</td>\n",
       "      <td>2.5</td>\n",
       "      <td>2.5</td>\n",
       "      <td>2.5</td>\n",
       "      <td>2.77</td>\n",
       "      <td>Beer poured from bottle into a Nonic shaped pi...</td>\n",
       "      <td>True</td>\n",
       "    </tr>\n",
       "    <tr>\n",
       "      <th>3</th>\n",
       "      <td>Legbiter</td>\n",
       "      <td>19827</td>\n",
       "      <td>Strangford Lough Brewing Company Ltd</td>\n",
       "      <td>10093</td>\n",
       "      <td>English Pale Ale</td>\n",
       "      <td>4.8</td>\n",
       "      <td>1342260000</td>\n",
       "      <td>OtherShoe2</td>\n",
       "      <td>othershoe2.233642</td>\n",
       "      <td>4.0</td>\n",
       "      <td>3.5</td>\n",
       "      <td>4.0</td>\n",
       "      <td>3.5</td>\n",
       "      <td>4.0</td>\n",
       "      <td>3.68</td>\n",
       "      <td>Pours a rich brownish red with some chill haze...</td>\n",
       "      <td>True</td>\n",
       "    </tr>\n",
       "    <tr>\n",
       "      <th>4</th>\n",
       "      <td>Legbiter</td>\n",
       "      <td>19827</td>\n",
       "      <td>Strangford Lough Brewing Company Ltd</td>\n",
       "      <td>10093</td>\n",
       "      <td>English Pale Ale</td>\n",
       "      <td>4.8</td>\n",
       "      <td>1335607200</td>\n",
       "      <td>brentk56</td>\n",
       "      <td>brentk56.6284</td>\n",
       "      <td>4.5</td>\n",
       "      <td>3.0</td>\n",
       "      <td>3.5</td>\n",
       "      <td>2.5</td>\n",
       "      <td>2.5</td>\n",
       "      <td>2.84</td>\n",
       "      <td>Appearance: These Strangford Lough beers pour ...</td>\n",
       "      <td>True</td>\n",
       "    </tr>\n",
       "  </tbody>\n",
       "</table>\n",
       "</div>"
      ],
      "text/plain": [
       "  beer_name beer_id                          brewery_name brewery_id  \\\n",
       "0  Legbiter   19827  Strangford Lough Brewing Company Ltd      10093   \n",
       "1  Legbiter   19827  Strangford Lough Brewing Company Ltd      10093   \n",
       "2  Legbiter   19827  Strangford Lough Brewing Company Ltd      10093   \n",
       "3  Legbiter   19827  Strangford Lough Brewing Company Ltd      10093   \n",
       "4  Legbiter   19827  Strangford Lough Brewing Company Ltd      10093   \n",
       "\n",
       "              style  abv        date     user_name              user_id  \\\n",
       "0  English Pale Ale  4.8  1360753200  brewdude1982  brewdude1982.691169   \n",
       "1  English Pale Ale  4.8  1357729200    AgentMunky    agentmunky.409755   \n",
       "2  English Pale Ale  4.8  1353150000     ferrari29     ferrari29.320392   \n",
       "3  English Pale Ale  4.8  1342260000    OtherShoe2    othershoe2.233642   \n",
       "4  English Pale Ale  4.8  1335607200      brentk56        brentk56.6284   \n",
       "\n",
       "  appearance aroma palate taste overall rating  \\\n",
       "0       4.25   4.5   3.25  3.75    3.75   3.91   \n",
       "1        4.0  3.75    3.5   3.5    3.75   3.64   \n",
       "2        3.0   3.5    2.5   2.5     2.5   2.77   \n",
       "3        4.0   3.5    4.0   3.5     4.0   3.68   \n",
       "4        4.5   3.0    3.5   2.5     2.5   2.84   \n",
       "\n",
       "                                                text review  \n",
       "0  This was a 12 oz bottle poured into a snifter....   True  \n",
       "1  Poured from a 12 ounce bottle into a pilsner g...   True  \n",
       "2  Beer poured from bottle into a Nonic shaped pi...   True  \n",
       "3  Pours a rich brownish red with some chill haze...   True  \n",
       "4  Appearance: These Strangford Lough beers pour ...   True  "
      ]
     },
     "execution_count": 2,
     "metadata": {},
     "output_type": "execute_result"
    }
   ],
   "source": [
    "path = DATA_PATH / 'matched_beer_data/ratings_with_text_ba.txt'\n",
    "\n",
    "df_beer = get_reviews(path,N_FEATURES)\n",
    "df_beer.head()\n"
   ]
  },
  {
   "cell_type": "code",
   "execution_count": 3,
   "metadata": {},
   "outputs": [
    {
     "data": {
      "text/plain": [
       "beer_name\n",
       "Trappistes Rochefort 10           2968\n",
       "Brooklyn Black Chocolate Stout    2861\n",
       "Delirium Tremens                  1773\n",
       "AleSmith Speedway Stout           1761\n",
       "Titan IPA                         1513\n",
       "                                  ... \n",
       "New World Pale                       1\n",
       "Triple 'S'                           1\n",
       "U.P.A.                               1\n",
       "54-46                                1\n",
       "Blackberry Stout                     1\n",
       "Name: count, Length: 26448, dtype: int64"
      ]
     },
     "execution_count": 3,
     "metadata": {},
     "output_type": "execute_result"
    }
   ],
   "source": [
    "df_beer['beer_name'].value_counts()"
   ]
  },
  {
   "cell_type": "code",
   "execution_count": 4,
   "metadata": {},
   "outputs": [],
   "source": [
    "# Let's load from BeerAdvocate, RateBeer and matched_beer_data the users.csv\n",
    "\n",
    "users_ba = pd.read_csv(DATA_PATH / 'BeerAdvocate/users.csv')\n",
    "users_ma = pd.read_csv(DATA_PATH / 'matched_beer_data/users.csv')\n",
    "users_rb = pd.read_csv(DATA_PATH / 'RateBeer/users.csv')"
   ]
  },
  {
   "cell_type": "code",
   "execution_count": 5,
   "metadata": {},
   "outputs": [
    {
     "name": "stdout",
     "output_type": "stream",
     "text": [
      "BeerAdvocate shape: 153704 rows, 6 columns\n",
      "Matched shape: 3021 rows, 13 columns\n",
      "RateBeer shape: 70174 rows, 5 columns\n",
      "Columns of BA: Index(['nbr_ratings', 'nbr_reviews', 'user_id', 'user_name', 'joined',\n",
      "       'location'],\n",
      "      dtype='object')\n",
      "Columns of MA: Index(['ba', 'ba.1', 'ba.2', 'ba.3', 'ba.4', 'ba.5', 'ba.6', 'rb', 'rb.1',\n",
      "       'rb.2', 'rb.3', 'rb.4', 'rb.5'],\n",
      "      dtype='object')\n",
      "Columns of RB: Index(['nbr_ratings', 'user_id', 'user_name', 'joined', 'location'], dtype='object')\n"
     ]
    }
   ],
   "source": [
    "# Just display amount of rows and columns\n",
    "\n",
    "print(\"BeerAdvocate shape: {} rows, {} columns\".format(*users_ba.shape))\n",
    "print(\"Matched shape: {} rows, {} columns\".format(*users_ma.shape))\n",
    "print(\"RateBeer shape: {} rows, {} columns\".format(*users_rb.shape))\n",
    "\n",
    "print(\"Columns of BA: {}\".format(users_ba.columns))\n",
    "print(\"Columns of MA: {}\".format(users_ma.columns))\n",
    "print(\"Columns of RB: {}\".format(users_rb.columns))"
   ]
  },
  {
   "cell_type": "code",
   "execution_count": 6,
   "metadata": {},
   "outputs": [
    {
     "data": {
      "text/html": [
       "<div>\n",
       "<style scoped>\n",
       "    .dataframe tbody tr th:only-of-type {\n",
       "        vertical-align: middle;\n",
       "    }\n",
       "\n",
       "    .dataframe tbody tr th {\n",
       "        vertical-align: top;\n",
       "    }\n",
       "\n",
       "    .dataframe thead th {\n",
       "        text-align: right;\n",
       "    }\n",
       "</style>\n",
       "<table border=\"1\" class=\"dataframe\">\n",
       "  <thead>\n",
       "    <tr style=\"text-align: right;\">\n",
       "      <th></th>\n",
       "      <th>nbr_ratings</th>\n",
       "      <th>nbr_reviews</th>\n",
       "      <th>user_id</th>\n",
       "      <th>user_name</th>\n",
       "      <th>joined</th>\n",
       "      <th>location</th>\n",
       "    </tr>\n",
       "  </thead>\n",
       "  <tbody>\n",
       "    <tr>\n",
       "      <th>0</th>\n",
       "      <td>7820</td>\n",
       "      <td>465</td>\n",
       "      <td>nmann08.184925</td>\n",
       "      <td>nmann08</td>\n",
       "      <td>1.199704e+09</td>\n",
       "      <td>United States, Washington</td>\n",
       "    </tr>\n",
       "    <tr>\n",
       "      <th>1</th>\n",
       "      <td>2521</td>\n",
       "      <td>2504</td>\n",
       "      <td>stjamesgate.163714</td>\n",
       "      <td>StJamesGate</td>\n",
       "      <td>1.191838e+09</td>\n",
       "      <td>United States, New York</td>\n",
       "    </tr>\n",
       "    <tr>\n",
       "      <th>2</th>\n",
       "      <td>1797</td>\n",
       "      <td>1143</td>\n",
       "      <td>mdagnew.19527</td>\n",
       "      <td>mdagnew</td>\n",
       "      <td>1.116410e+09</td>\n",
       "      <td>Northern Ireland</td>\n",
       "    </tr>\n",
       "    <tr>\n",
       "      <th>3</th>\n",
       "      <td>31</td>\n",
       "      <td>31</td>\n",
       "      <td>helloloser12345.10867</td>\n",
       "      <td>helloloser12345</td>\n",
       "      <td>1.101380e+09</td>\n",
       "      <td>Northern Ireland</td>\n",
       "    </tr>\n",
       "    <tr>\n",
       "      <th>4</th>\n",
       "      <td>604</td>\n",
       "      <td>604</td>\n",
       "      <td>cypressbob.3708</td>\n",
       "      <td>cypressbob</td>\n",
       "      <td>1.069326e+09</td>\n",
       "      <td>Northern Ireland</td>\n",
       "    </tr>\n",
       "  </tbody>\n",
       "</table>\n",
       "</div>"
      ],
      "text/plain": [
       "   nbr_ratings  nbr_reviews                user_id        user_name  \\\n",
       "0         7820          465         nmann08.184925          nmann08   \n",
       "1         2521         2504     stjamesgate.163714      StJamesGate   \n",
       "2         1797         1143          mdagnew.19527          mdagnew   \n",
       "3           31           31  helloloser12345.10867  helloloser12345   \n",
       "4          604          604        cypressbob.3708       cypressbob   \n",
       "\n",
       "         joined                   location  \n",
       "0  1.199704e+09  United States, Washington  \n",
       "1  1.191838e+09    United States, New York  \n",
       "2  1.116410e+09           Northern Ireland  \n",
       "3  1.101380e+09           Northern Ireland  \n",
       "4  1.069326e+09           Northern Ireland  "
      ]
     },
     "execution_count": 6,
     "metadata": {},
     "output_type": "execute_result"
    }
   ],
   "source": [
    "users_ba.head()"
   ]
  },
  {
   "cell_type": "code",
   "execution_count": 7,
   "metadata": {},
   "outputs": [
    {
     "data": {
      "text/html": [
       "<div>\n",
       "<style scoped>\n",
       "    .dataframe tbody tr th:only-of-type {\n",
       "        vertical-align: middle;\n",
       "    }\n",
       "\n",
       "    .dataframe tbody tr th {\n",
       "        vertical-align: top;\n",
       "    }\n",
       "\n",
       "    .dataframe thead th {\n",
       "        text-align: right;\n",
       "    }\n",
       "</style>\n",
       "<table border=\"1\" class=\"dataframe\">\n",
       "  <thead>\n",
       "    <tr style=\"text-align: right;\">\n",
       "      <th></th>\n",
       "      <th>ba</th>\n",
       "      <th>ba.1</th>\n",
       "      <th>ba.2</th>\n",
       "      <th>ba.3</th>\n",
       "      <th>ba.4</th>\n",
       "      <th>ba.5</th>\n",
       "      <th>ba.6</th>\n",
       "      <th>rb</th>\n",
       "      <th>rb.1</th>\n",
       "      <th>rb.2</th>\n",
       "      <th>rb.3</th>\n",
       "      <th>rb.4</th>\n",
       "      <th>rb.5</th>\n",
       "    </tr>\n",
       "  </thead>\n",
       "  <tbody>\n",
       "    <tr>\n",
       "      <th>0</th>\n",
       "      <td>joined</td>\n",
       "      <td>location</td>\n",
       "      <td>nbr_ratings</td>\n",
       "      <td>nbr_reviews</td>\n",
       "      <td>user_id</td>\n",
       "      <td>user_name</td>\n",
       "      <td>user_name_lower</td>\n",
       "      <td>joined</td>\n",
       "      <td>location</td>\n",
       "      <td>nbr_ratings</td>\n",
       "      <td>user_id</td>\n",
       "      <td>user_name</td>\n",
       "      <td>user_name_lower</td>\n",
       "    </tr>\n",
       "    <tr>\n",
       "      <th>1</th>\n",
       "      <td>1220868000.0</td>\n",
       "      <td>Germany</td>\n",
       "      <td>6</td>\n",
       "      <td>6</td>\n",
       "      <td>erzengel.248045</td>\n",
       "      <td>Erzengel</td>\n",
       "      <td>erzengel</td>\n",
       "      <td>1224324000.0</td>\n",
       "      <td>Germany</td>\n",
       "      <td>8781</td>\n",
       "      <td>83106</td>\n",
       "      <td>Erzengel</td>\n",
       "      <td>erzengel</td>\n",
       "    </tr>\n",
       "    <tr>\n",
       "      <th>2</th>\n",
       "      <td>1348394400.0</td>\n",
       "      <td>United States, Virginia</td>\n",
       "      <td>1</td>\n",
       "      <td>1</td>\n",
       "      <td>gendv138.695700</td>\n",
       "      <td>GenDV138</td>\n",
       "      <td>gendv138</td>\n",
       "      <td>1385722800.0</td>\n",
       "      <td>United States, Virginia</td>\n",
       "      <td>6240</td>\n",
       "      <td>290599</td>\n",
       "      <td>GenDV138</td>\n",
       "      <td>gendv138</td>\n",
       "    </tr>\n",
       "    <tr>\n",
       "      <th>3</th>\n",
       "      <td>1207303200.0</td>\n",
       "      <td>United States, Washington</td>\n",
       "      <td>3</td>\n",
       "      <td>3</td>\n",
       "      <td>nimbleprop.208928</td>\n",
       "      <td>nimbleprop</td>\n",
       "      <td>nimbleprop</td>\n",
       "      <td>1150797600.0</td>\n",
       "      <td>United States, Washington</td>\n",
       "      <td>7452</td>\n",
       "      <td>38859</td>\n",
       "      <td>nimbleprop</td>\n",
       "      <td>nimbleprop</td>\n",
       "    </tr>\n",
       "    <tr>\n",
       "      <th>4</th>\n",
       "      <td>1322737200.0</td>\n",
       "      <td>Estonia</td>\n",
       "      <td>11</td>\n",
       "      <td>0</td>\n",
       "      <td>visionthing.639993</td>\n",
       "      <td>visionthing</td>\n",
       "      <td>visionthing</td>\n",
       "      <td>1242986400.0</td>\n",
       "      <td>Estonia</td>\n",
       "      <td>5462</td>\n",
       "      <td>91324</td>\n",
       "      <td>visionthing</td>\n",
       "      <td>visionthing</td>\n",
       "    </tr>\n",
       "  </tbody>\n",
       "</table>\n",
       "</div>"
      ],
      "text/plain": [
       "             ba                       ba.1         ba.2         ba.3  \\\n",
       "0        joined                   location  nbr_ratings  nbr_reviews   \n",
       "1  1220868000.0                    Germany            6            6   \n",
       "2  1348394400.0    United States, Virginia            1            1   \n",
       "3  1207303200.0  United States, Washington            3            3   \n",
       "4  1322737200.0                    Estonia           11            0   \n",
       "\n",
       "                 ba.4         ba.5             ba.6            rb  \\\n",
       "0             user_id    user_name  user_name_lower        joined   \n",
       "1     erzengel.248045     Erzengel         erzengel  1224324000.0   \n",
       "2     gendv138.695700     GenDV138         gendv138  1385722800.0   \n",
       "3   nimbleprop.208928   nimbleprop       nimbleprop  1150797600.0   \n",
       "4  visionthing.639993  visionthing      visionthing  1242986400.0   \n",
       "\n",
       "                        rb.1         rb.2     rb.3         rb.4  \\\n",
       "0                   location  nbr_ratings  user_id    user_name   \n",
       "1                    Germany         8781    83106     Erzengel   \n",
       "2    United States, Virginia         6240   290599     GenDV138   \n",
       "3  United States, Washington         7452    38859   nimbleprop   \n",
       "4                    Estonia         5462    91324  visionthing   \n",
       "\n",
       "              rb.5  \n",
       "0  user_name_lower  \n",
       "1         erzengel  \n",
       "2         gendv138  \n",
       "3       nimbleprop  \n",
       "4      visionthing  "
      ]
     },
     "execution_count": 7,
     "metadata": {},
     "output_type": "execute_result"
    }
   ],
   "source": [
    "users_ma.head()"
   ]
  },
  {
   "cell_type": "markdown",
   "metadata": {},
   "source": [
    "=> matched users always have the same user_name in ba and rb => we can get rid of one column\n",
    "\n",
    "=> if location NAN then joined NAN"
   ]
  },
  {
   "cell_type": "code",
   "execution_count": 8,
   "metadata": {},
   "outputs": [
    {
     "data": {
      "text/html": [
       "<div>\n",
       "<style scoped>\n",
       "    .dataframe tbody tr th:only-of-type {\n",
       "        vertical-align: middle;\n",
       "    }\n",
       "\n",
       "    .dataframe tbody tr th {\n",
       "        vertical-align: top;\n",
       "    }\n",
       "\n",
       "    .dataframe thead th {\n",
       "        text-align: right;\n",
       "    }\n",
       "</style>\n",
       "<table border=\"1\" class=\"dataframe\">\n",
       "  <thead>\n",
       "    <tr style=\"text-align: right;\">\n",
       "      <th></th>\n",
       "      <th>nbr_ratings_x</th>\n",
       "      <th>nbr_reviews</th>\n",
       "      <th>user_id_x</th>\n",
       "      <th>user_name</th>\n",
       "      <th>joined_x</th>\n",
       "      <th>location_x</th>\n",
       "      <th>nbr_ratings_y</th>\n",
       "      <th>user_id_y</th>\n",
       "      <th>joined_y</th>\n",
       "      <th>location_y</th>\n",
       "    </tr>\n",
       "  </thead>\n",
       "  <tbody>\n",
       "    <tr>\n",
       "      <th>0</th>\n",
       "      <td>7820</td>\n",
       "      <td>465</td>\n",
       "      <td>nmann08.184925</td>\n",
       "      <td>nmann08</td>\n",
       "      <td>1.199704e+09</td>\n",
       "      <td>United States, Washington</td>\n",
       "      <td>3</td>\n",
       "      <td>101495</td>\n",
       "      <td>1.265800e+09</td>\n",
       "      <td>United States, Washington</td>\n",
       "    </tr>\n",
       "    <tr>\n",
       "      <th>1</th>\n",
       "      <td>1866</td>\n",
       "      <td>23</td>\n",
       "      <td>rochefortchris.697017</td>\n",
       "      <td>RochefortChris</td>\n",
       "      <td>1.349172e+09</td>\n",
       "      <td>United States, North Carolina</td>\n",
       "      <td>8</td>\n",
       "      <td>213410</td>\n",
       "      <td>1.345975e+09</td>\n",
       "      <td>United States, South Carolina</td>\n",
       "    </tr>\n",
       "    <tr>\n",
       "      <th>2</th>\n",
       "      <td>6306</td>\n",
       "      <td>6306</td>\n",
       "      <td>brentk56.6284</td>\n",
       "      <td>brentk56</td>\n",
       "      <td>1.084442e+09</td>\n",
       "      <td>United States, North Carolina</td>\n",
       "      <td>1</td>\n",
       "      <td>26838</td>\n",
       "      <td>1.125742e+09</td>\n",
       "      <td>United States, North Carolina</td>\n",
       "    </tr>\n",
       "    <tr>\n",
       "      <th>3</th>\n",
       "      <td>6260</td>\n",
       "      <td>4734</td>\n",
       "      <td>emerge077.17949</td>\n",
       "      <td>emerge077</td>\n",
       "      <td>1.113646e+09</td>\n",
       "      <td>United States, Illinois</td>\n",
       "      <td>40</td>\n",
       "      <td>46216</td>\n",
       "      <td>1.165576e+09</td>\n",
       "      <td>United States, Illinois</td>\n",
       "    </tr>\n",
       "    <tr>\n",
       "      <th>4</th>\n",
       "      <td>1851</td>\n",
       "      <td>10</td>\n",
       "      <td>buckyp.435592</td>\n",
       "      <td>buckyp</td>\n",
       "      <td>1.267960e+09</td>\n",
       "      <td>United States, South Carolina</td>\n",
       "      <td>20</td>\n",
       "      <td>68888</td>\n",
       "      <td>1.201864e+09</td>\n",
       "      <td>United States, Georgia</td>\n",
       "    </tr>\n",
       "  </tbody>\n",
       "</table>\n",
       "</div>"
      ],
      "text/plain": [
       "   nbr_ratings_x  nbr_reviews              user_id_x       user_name  \\\n",
       "0           7820          465         nmann08.184925         nmann08   \n",
       "1           1866           23  rochefortchris.697017  RochefortChris   \n",
       "2           6306         6306          brentk56.6284        brentk56   \n",
       "3           6260         4734        emerge077.17949       emerge077   \n",
       "4           1851           10          buckyp.435592          buckyp   \n",
       "\n",
       "       joined_x                     location_x  nbr_ratings_y  user_id_y  \\\n",
       "0  1.199704e+09      United States, Washington              3     101495   \n",
       "1  1.349172e+09  United States, North Carolina              8     213410   \n",
       "2  1.084442e+09  United States, North Carolina              1      26838   \n",
       "3  1.113646e+09        United States, Illinois             40      46216   \n",
       "4  1.267960e+09  United States, South Carolina             20      68888   \n",
       "\n",
       "       joined_y                     location_y  \n",
       "0  1.265800e+09      United States, Washington  \n",
       "1  1.345975e+09  United States, South Carolina  \n",
       "2  1.125742e+09  United States, North Carolina  \n",
       "3  1.165576e+09        United States, Illinois  \n",
       "4  1.201864e+09         United States, Georgia  "
      ]
     },
     "execution_count": 8,
     "metadata": {},
     "output_type": "execute_result"
    }
   ],
   "source": [
    "# See how many users are in common between the two datasets BA and RB\n",
    "users_ba_rb = pd.merge(users_ba, users_rb, on=['user_name'], how='inner')\n",
    "\n",
    "users_ba_rb.head()"
   ]
  },
  {
   "cell_type": "code",
   "execution_count": 9,
   "metadata": {},
   "outputs": [
    {
     "name": "stdout",
     "output_type": "stream",
     "text": [
      "Shape of filtered BA and RB: 3139 rows, 10 columns\n"
     ]
    }
   ],
   "source": [
    "# Remove if missing data\n",
    "users_ba_rb = users_ba_rb.dropna()\n",
    "\n",
    "print(\"Shape of filtered BA and RB: {} rows, {} columns\".format(*users_ba_rb.shape))"
   ]
  },
  {
   "cell_type": "code",
   "execution_count": 10,
   "metadata": {},
   "outputs": [
    {
     "name": "stdout",
     "output_type": "stream",
     "text": [
      "(660, 10)\n"
     ]
    }
   ],
   "source": [
    "# Remove lines from users_ba_rb if the user_name is in users_ma[\"ba.6\"]\n",
    "names_in_ma = users_ma[\"ba.6\"].tolist()[1:]\n",
    "\n",
    "filtered_users_ba_rb = users_ba_rb.copy()\n",
    "filtered_users_ba_rb[\"user_name\"] = filtered_users_ba_rb[\"user_name\"].str.lower()\n",
    "filtered_users_ba_rb = filtered_users_ba_rb[~filtered_users_ba_rb[\"user_name\"].isin(names_in_ma)]\n",
    "\n",
    "print(filtered_users_ba_rb.shape)"
   ]
  },
  {
   "cell_type": "markdown",
   "metadata": {},
   "source": [
    "to replicated matched dataset, we did inner join + removed NANs but we have more in our filtered dataset than the matched dataset. We try to udnerstand why.\n",
    "\n",
    "-> 542 lines in matched but not in filtered\n",
    "\n",
    "-> 600 lines in filtered but not in matched"
   ]
  },
  {
   "cell_type": "code",
   "execution_count": 11,
   "metadata": {},
   "outputs": [
    {
     "name": "stdout",
     "output_type": "stream",
     "text": [
      "(1, 13)\n"
     ]
    }
   ],
   "source": [
    "# remove lines from users_ma if the user_name is in users_ba_rb\n",
    "\n",
    "names_filter = users_ba[\"user_name\"].to_list()\n",
    "names_filter = [str(name).lower() for name in names_filter]\n",
    "\n",
    "filtered_users_ma = users_ma[~users_ma[\"ba.6\"].isin(names_filter)]\n",
    "print(filtered_users_ma.shape)"
   ]
  },
  {
   "cell_type": "markdown",
   "metadata": {},
   "source": [
    "=> all users in matched are in users_rb and users_ba "
   ]
  },
  {
   "cell_type": "code",
   "execution_count": 12,
   "metadata": {},
   "outputs": [],
   "source": [
    "def get_reviews(file, n_features):\n",
    "    \n",
    "    with open(file, \"r\", encoding=\"utf8\") as f:\n",
    "        lines = f.readlines()\n",
    "    lines_without_breaks = [line[:-1] for line in lines if line != \"\\n\"]\n",
    "    data = [line[line.find(\": \") + 2 :] for line in lines_without_breaks]\n",
    "    data = np.array(data, dtype=\"object\")\n",
    "    features = [line[0 : line.find(\": \")] for line in lines[:n_features]]\n",
    "    reviews = data.reshape((-1, n_features))\n",
    "    reviews_df = pd.DataFrame(reviews, columns=features)\n",
    "    return reviews_df"
   ]
  },
  {
   "cell_type": "markdown",
   "metadata": {},
   "source": [
    "Upon looking through the data, we notice that the different text files have a different number of attributes which we give to the `get_reviews` function as `n_features`"
   ]
  },
  {
   "cell_type": "code",
   "execution_count": 13,
   "metadata": {},
   "outputs": [],
   "source": [
    "# make dataframes of the text files \n",
    "\n",
    "ratings_ba = get_reviews(DATA_PATH / 'matched_beer_data/ratings_ba.txt', 17)\n",
    "ratings_rb = get_reviews(DATA_PATH / 'matched_beer_data/ratings_rb.txt', 16)\n",
    "ratings_ba_text = get_reviews(DATA_PATH / 'matched_beer_data/ratings_with_text_ba.txt', 17)\n",
    "ratings_rb_text = get_reviews(DATA_PATH / 'matched_beer_data/ratings_with_text_rb.txt', 16)"
   ]
  },
  {
   "cell_type": "markdown",
   "metadata": {},
   "source": [
    "We now want to understand the difference with these datasets:\n",
    "\n",
    "1. what is the additional columns in ba: `review` which is a bool\n",
    "2. what is the difference between the datasets with and without text:\n",
    "\n",
    "Our hypothesis is that the ratings files from the `matched_beer_data` were made from the matched users. The files from BeerAdvocate and RateBeer are very large so we will try not to work with them."
   ]
  },
  {
   "cell_type": "code",
   "execution_count": 14,
   "metadata": {},
   "outputs": [
    {
     "name": "stdout",
     "output_type": "stream",
     "text": [
      "Shape of BA: 955968 rows, 17 columns\n",
      "Shape of RB: 1020638 rows, 16 columns\n",
      "Shape of BA with text: 289025 rows, 17 columns\n",
      "Shape of RB with text: 1020599 rows, 16 columns\n"
     ]
    }
   ],
   "source": [
    "# comparison of dataframes sizes\n",
    "\n",
    "print(\"Shape of BA: {} rows, {} columns\".format(*ratings_ba.shape))\n",
    "print(\"Shape of RB: {} rows, {} columns\".format(*ratings_rb.shape))\n",
    "print(\"Shape of BA with text: {} rows, {} columns\".format(*ratings_ba_text.shape))\n",
    "print(\"Shape of RB with text: {} rows, {} columns\".format(*ratings_rb_text.shape))"
   ]
  },
  {
   "cell_type": "code",
   "execution_count": 15,
   "metadata": {},
   "outputs": [
    {
     "name": "stdout",
     "output_type": "stream",
     "text": [
      "Size of unfiltered users.ma: (3021, 13)\n",
      "Size of users.ma filtered with ba: (1, 13)\n",
      "Size of users.ma filtered with rb: (1, 13)\n"
     ]
    }
   ],
   "source": [
    "# remove lines from users_ma if the user_name is in ratings_ba or ratings_rb\n",
    "\n",
    "names_filter_ba = ratings_ba[\"user_name\"].to_list()\n",
    "names_filter_ba = [str(name).lower() for name in names_filter]\n",
    "names_filter_rb = ratings_rb[\"user_name\"].to_list()\n",
    "names_filter_rb = [str(name).lower() for name in names_filter]\n",
    "\n",
    "filtered_users_ba = users_ma[~users_ma[\"ba.6\"].isin(names_filter_ba)]\n",
    "filtered_users_rb = users_ma[~users_ma[\"ba.6\"].isin(names_filter_rb)]\n",
    "\n",
    "print(\"Size of unfiltered users.ma: {}\".format(users_ma.shape))\n",
    "print(\"Size of users.ma filtered with ba: {}\".format(filtered_users_ba.shape))\n",
    "print(\"Size of users.ma filtered with rb: {}\".format(filtered_users_rb.shape))"
   ]
  },
  {
   "cell_type": "markdown",
   "metadata": {},
   "source": [
    "=> if users_ma has users from `ratings_ba` or `ratings_rb`, then they are in both datasets"
   ]
  },
  {
   "cell_type": "code",
   "execution_count": 16,
   "metadata": {},
   "outputs": [
    {
     "name": "stdout",
     "output_type": "stream",
     "text": [
      "(498657, 17)\n"
     ]
    }
   ],
   "source": [
    "# remove lines from ratings_ba if the user_name is in ratings_rb\n",
    "\n",
    "filtered_ba = ratings_ba[~ratings_ba[\"user_name\"].isin(names_filter_rb)]\n",
    "print(filtered_ba.shape)\n",
    "\n",
    "# faire differemment: recuperer list de unique users dans ratings_rb et faire un isin sur ratings_ba"
   ]
  },
  {
   "cell_type": "markdown",
   "metadata": {},
   "source": [
    "=> however the `ratings_ba` and `ratings_rb` have a very different list of user_names"
   ]
  },
  {
   "cell_type": "code",
   "execution_count": 17,
   "metadata": {},
   "outputs": [
    {
     "name": "stdout",
     "output_type": "stream",
     "text": [
      "Shape of filtered BA and RB: 12751036 rows, 32 columns\n"
     ]
    }
   ],
   "source": [
    "# See how many users are in common between the ratings_ba and ratings_rb datasets\n",
    "\n",
    "ratings_ba_rb = pd.merge(ratings_ba, ratings_rb, on=['user_name'], how='inner')\n",
    "ratings_ba_rb = ratings_ba_rb.dropna()\n",
    "\n",
    "print(\"Shape of filtered BA and RB: {} rows, {} columns\".format(*ratings_ba_rb.shape))"
   ]
  },
  {
   "cell_type": "markdown",
   "metadata": {},
   "source": [
    "We not want to understand the similarities between the `ratings.txt` datasets from RateBeer and BeerAdvocate and the matched files (`ratings_ba.txt` and `ratings_rb.txt`). We therefore load the full datasets from RB and BA, then extract a sample for each column and compare it to the matched data through plots and significance testing (ie. t-test)"
   ]
  },
  {
   "cell_type": "code",
   "execution_count": 18,
   "metadata": {},
   "outputs": [],
   "source": [
    "# get full dataset of ratings RB\n",
    "\n",
    "full_ratings_rb = get_reviews(DATA_PATH / 'RateBeer/ratings.txt', 16)"
   ]
  },
  {
   "cell_type": "code",
   "execution_count": 25,
   "metadata": {},
   "outputs": [
    {
     "data": {
      "text/html": [
       "<div>\n",
       "<style scoped>\n",
       "    .dataframe tbody tr th:only-of-type {\n",
       "        vertical-align: middle;\n",
       "    }\n",
       "\n",
       "    .dataframe tbody tr th {\n",
       "        vertical-align: top;\n",
       "    }\n",
       "\n",
       "    .dataframe thead th {\n",
       "        text-align: right;\n",
       "    }\n",
       "</style>\n",
       "<table border=\"1\" class=\"dataframe\">\n",
       "  <thead>\n",
       "    <tr style=\"text-align: right;\">\n",
       "      <th></th>\n",
       "      <th>beer_name</th>\n",
       "      <th>beer_id</th>\n",
       "      <th>brewery_name</th>\n",
       "      <th>brewery_id</th>\n",
       "      <th>style</th>\n",
       "      <th>abv</th>\n",
       "      <th>date</th>\n",
       "      <th>user_name</th>\n",
       "      <th>user_id</th>\n",
       "      <th>appearance</th>\n",
       "      <th>aroma</th>\n",
       "      <th>palate</th>\n",
       "      <th>taste</th>\n",
       "      <th>overall</th>\n",
       "      <th>rating</th>\n",
       "      <th>text</th>\n",
       "    </tr>\n",
       "  </thead>\n",
       "  <tbody>\n",
       "    <tr>\n",
       "      <th>0</th>\n",
       "      <td>33 Export (Gabon)</td>\n",
       "      <td>410549</td>\n",
       "      <td>Sobraga</td>\n",
       "      <td>3198</td>\n",
       "      <td>Pale Lager</td>\n",
       "      <td>5.0</td>\n",
       "      <td>1461664800</td>\n",
       "      <td>Manslow</td>\n",
       "      <td>175852</td>\n",
       "      <td>2</td>\n",
       "      <td>4</td>\n",
       "      <td>2</td>\n",
       "      <td>4</td>\n",
       "      <td>8</td>\n",
       "      <td>2.00</td>\n",
       "      <td>Puszka 0,33l dzięki Christoph . Kolor jasnozło...</td>\n",
       "    </tr>\n",
       "    <tr>\n",
       "      <th>1</th>\n",
       "      <td>Castel Beer (Gabon)</td>\n",
       "      <td>105273</td>\n",
       "      <td>Sobraga</td>\n",
       "      <td>3198</td>\n",
       "      <td>Pale Lager</td>\n",
       "      <td>5.2</td>\n",
       "      <td>1487329200</td>\n",
       "      <td>MAGICuenca91</td>\n",
       "      <td>442761</td>\n",
       "      <td>2</td>\n",
       "      <td>3</td>\n",
       "      <td>2</td>\n",
       "      <td>4</td>\n",
       "      <td>8</td>\n",
       "      <td>1.90</td>\n",
       "      <td>Cerveza pale lager gabonesa. MÃ¡s floja que la...</td>\n",
       "    </tr>\n",
       "    <tr>\n",
       "      <th>2</th>\n",
       "      <td>Castel Beer (Gabon)</td>\n",
       "      <td>105273</td>\n",
       "      <td>Sobraga</td>\n",
       "      <td>3198</td>\n",
       "      <td>Pale Lager</td>\n",
       "      <td>5.2</td>\n",
       "      <td>1466762400</td>\n",
       "      <td>Sibarh</td>\n",
       "      <td>288889</td>\n",
       "      <td>3</td>\n",
       "      <td>3</td>\n",
       "      <td>2</td>\n",
       "      <td>3</td>\n",
       "      <td>5</td>\n",
       "      <td>1.60</td>\n",
       "      <td>Kolor- złoty, klarowny. Piana - drobna, średni...</td>\n",
       "    </tr>\n",
       "    <tr>\n",
       "      <th>3</th>\n",
       "      <td>Castel Beer (Gabon)</td>\n",
       "      <td>105273</td>\n",
       "      <td>Sobraga</td>\n",
       "      <td>3198</td>\n",
       "      <td>Pale Lager</td>\n",
       "      <td>5.2</td>\n",
       "      <td>1451646000</td>\n",
       "      <td>fombe89</td>\n",
       "      <td>250510</td>\n",
       "      <td>4</td>\n",
       "      <td>3</td>\n",
       "      <td>1</td>\n",
       "      <td>2</td>\n",
       "      <td>5</td>\n",
       "      <td>1.50</td>\n",
       "      <td>Botella, de GabÃ³n regalo familiar.31/01/2015C...</td>\n",
       "    </tr>\n",
       "    <tr>\n",
       "      <th>4</th>\n",
       "      <td>Castel Beer (Gabon)</td>\n",
       "      <td>105273</td>\n",
       "      <td>Sobraga</td>\n",
       "      <td>3198</td>\n",
       "      <td>Pale Lager</td>\n",
       "      <td>5.2</td>\n",
       "      <td>1445594400</td>\n",
       "      <td>kevnic2008</td>\n",
       "      <td>122778</td>\n",
       "      <td>2</td>\n",
       "      <td>4</td>\n",
       "      <td>2</td>\n",
       "      <td>4</td>\n",
       "      <td>7</td>\n",
       "      <td>1.90</td>\n",
       "      <td>Many thanks for this beer to Erzengel. Pours l...</td>\n",
       "    </tr>\n",
       "  </tbody>\n",
       "</table>\n",
       "</div>"
      ],
      "text/plain": [
       "             beer_name beer_id brewery_name brewery_id       style  abv  \\\n",
       "0    33 Export (Gabon)  410549      Sobraga       3198  Pale Lager  5.0   \n",
       "1  Castel Beer (Gabon)  105273      Sobraga       3198  Pale Lager  5.2   \n",
       "2  Castel Beer (Gabon)  105273      Sobraga       3198  Pale Lager  5.2   \n",
       "3  Castel Beer (Gabon)  105273      Sobraga       3198  Pale Lager  5.2   \n",
       "4  Castel Beer (Gabon)  105273      Sobraga       3198  Pale Lager  5.2   \n",
       "\n",
       "         date     user_name user_id appearance aroma palate taste overall  \\\n",
       "0  1461664800       Manslow  175852          2     4      2     4       8   \n",
       "1  1487329200  MAGICuenca91  442761          2     3      2     4       8   \n",
       "2  1466762400        Sibarh  288889          3     3      2     3       5   \n",
       "3  1451646000       fombe89  250510          4     3      1     2       5   \n",
       "4  1445594400    kevnic2008  122778          2     4      2     4       7   \n",
       "\n",
       "  rating                                               text  \n",
       "0   2.00  Puszka 0,33l dzięki Christoph . Kolor jasnozło...  \n",
       "1   1.90  Cerveza pale lager gabonesa. MÃ¡s floja que la...  \n",
       "2   1.60  Kolor- złoty, klarowny. Piana - drobna, średni...  \n",
       "3   1.50  Botella, de GabÃ³n regalo familiar.31/01/2015C...  \n",
       "4   1.90  Many thanks for this beer to Erzengel. Pours l...  "
      ]
     },
     "execution_count": 25,
     "metadata": {},
     "output_type": "execute_result"
    }
   ],
   "source": [
    "full_ratings_rb.head()"
   ]
  },
  {
   "cell_type": "code",
   "execution_count": 55,
   "metadata": {},
   "outputs": [],
   "source": [
    "# Randomly sample a column from the full rb dataset equal to the length of the column in the matched file\n",
    "\n",
    "def make_sample(full_df, col_name):\n",
    "    col_full = full_ratings_rb[col_name]\n",
    "    col_rb = ratings_rb[col_name]\n",
    "    sample = col_full.sample(len(col_rb))\n",
    "    return sample \n",
    "\n",
    "# plot the distribution of the column from the full rb dataset and the matched rb dataset\n",
    "\n",
    "def make_hist(sample, col_rb):\n",
    "    plt.hist(sample, bins=10, alpha=0.5, label='Full')\n",
    "    plt.hist(col_rb, bins=10, alpha=0.5, label='RB')\n",
    "    plt.legend(loc='upper right')\n",
    "    plt.show()\n",
    "\n",
    "def make_boxplot(sample, col_rb):\n",
    "    sns.boxplot(data=[sample, col_rb])\n",
    "    plt.show()\n",
    "\n",
    "def make_plots(sample, col_rb, sample_title, col_title):\n",
    "    \n",
    "    fig, ax = plt.subplots(1, 2, figsize=(10, 4), sharey = False, sharex = False)\n",
    "\n",
    "    ax[0].hist(sample, bins=10, alpha=0.5, label='Full')\n",
    "    ax[0].hist(col_rb, bins=10, alpha=0.5, label='RB')\n",
    "    ax[0].legend(loc='upper right')\n",
    "    ax[0].set_title(sample_title)\n",
    "    \n",
    "    ax[1] = sns.boxplot(data=[sample, col_rb], ax=ax[1])\n",
    "    ax[1].set_title(col_title)\n",
    "    plt.show()"
   ]
  },
  {
   "cell_type": "code",
   "execution_count": 56,
   "metadata": {},
   "outputs": [
    {
     "data": {
      "image/png": "[encoded data removed]",
      "text/plain": [
       "<Figure size 1000x400 with 2 Axes>"
      ]
     },
     "metadata": {},
     "output_type": "display_data"
    }
   ],
   "source": [
    "# Compare the ratings\n",
    "\n",
    "rating_col_full_sample = make_sample(full_ratings_rb, \"rating\")\n",
    "rating_col_rb = ratings_rb[\"rating\"]\n",
    "make_plots(rating_col_full_sample, rating_col_rb, \"Histogram of ratings\", \"Boxplot of ratings\")"
   ]
  },
  {
   "cell_type": "code",
   "execution_count": 64,
   "metadata": {},
   "outputs": [
    {
     "name": "stdout",
     "output_type": "stream",
     "text": [
      "The t-statistic is -123.24\n",
      "The p-value is 0.00e+00\n",
      "The null hypothesis is rejected, the mean rating between the sample and the matched rb is different\n"
     ]
    }
   ],
   "source": [
    "import scipy.stats as stats\n",
    "\n",
    "# Perform the t-test\n",
    "t_statistic, p_value = stats.ttest_ind(rating_col_full_sample.astype(float), rating_col_rb.astype(float))\n",
    "\n",
    "print(\"The t-statistic is {:.2f}\".format(t_statistic))\n",
    "print(\"The p-value is {:.2e}\".format(p_value))\n",
    "\n",
    "if p_value < 0.05:\n",
    "    print(\"The null hypothesis is rejected, the mean rating between the sample and the matched rb is different\")\n",
    "else:\n",
    "    print(\"The null hypothesis is accepted, the difference between the rating for the sample and matched rb is not statistically significant\")"
   ]
  },
  {
   "cell_type": "code",
   "execution_count": 63,
   "metadata": {},
   "outputs": [
    {
     "name": "stdout",
     "output_type": "stream",
     "text": [
      "KstestResult(statistic=0.9295634571929671, pvalue=0.0, statistic_location=1.9, statistic_sign=-1)\n",
      "KstestResult(statistic=0.955170541199401, pvalue=0.0, statistic_location=2.0, statistic_sign=-1)\n"
     ]
    }
   ],
   "source": [
    "from scipy.stats import kstest\n",
    "\n",
    "res1 = kstest(rating_col_full_sample.astype(float), 'norm')\n",
    "print(res1)\n",
    "\n",
    "res2 = kstest(rating_col_rb.astype(float), 'norm')\n",
    "print(res2)"
   ]
  },
  {
   "cell_type": "code",
   "execution_count": 57,
   "metadata": {},
   "outputs": [
    {
     "data": {
      "image/png": "[encoded data removed]",
      "text/plain": [
       "<Figure size 1000x400 with 2 Axes>"
      ]
     },
     "metadata": {},
     "output_type": "display_data"
    }
   ],
   "source": [
    "# Compare the appearance\n",
    "\n",
    "app_col_full_sample = make_sample(full_ratings_rb, \"appearance\")\n",
    "app_col_rb = ratings_rb[\"appearance\"]\n",
    "make_plots(app_col_full_sample, app_col_rb, \"Histogram of appearance\", \"Boxplot of appearance\")"
   ]
  },
  {
   "cell_type": "code",
   "execution_count": 65,
   "metadata": {},
   "outputs": [
    {
     "name": "stdout",
     "output_type": "stream",
     "text": [
      "The t-statistic is -61.85\n",
      "The p-value is 0.00e+00\n",
      "The null hypothesis is rejected, the mean appearance rating between the sample and the matched rb is different\n"
     ]
    }
   ],
   "source": [
    "# Perform the t-test\n",
    "t_statistic_app, p_value_app = stats.ttest_ind(app_col_full_sample.astype(float), app_col_rb.astype(float))\n",
    "\n",
    "print(\"The t-statistic is {:.2f}\".format(t_statistic_app))\n",
    "print(\"The p-value is {:.2e}\".format(p_value_app))\n",
    "\n",
    "if p_value < 0.05:\n",
    "    print(\"The null hypothesis is rejected, the mean appearance rating between the sample and the matched rb is different\")\n",
    "else:\n",
    "    print(\"The null hypothesis is accepted, the difference between the appearance rating for the sample and matched rb is not statistically significant\")"
   ]
  },
  {
   "cell_type": "code",
   "execution_count": 58,
   "metadata": {},
   "outputs": [
    {
     "data": {
      "image/png": "[encoded data removed]",
      "text/plain": [
       "<Figure size 1000x400 with 2 Axes>"
      ]
     },
     "metadata": {},
     "output_type": "display_data"
    }
   ],
   "source": [
    "# Compare the aromas\n",
    "\n",
    "aroma_col_full_sample = make_sample(full_ratings_rb, \"aroma\")\n",
    "aroma_col_rb = ratings_rb[\"aroma\"]\n",
    "make_plots(aroma_col_full_sample, aroma_col_rb, \"Histogram of aroma\", \"Boxplot of aroma\")"
   ]
  },
  {
   "cell_type": "code",
   "execution_count": 66,
   "metadata": {},
   "outputs": [
    {
     "name": "stdout",
     "output_type": "stream",
     "text": [
      "The t-statistic is -123.13\n",
      "The p-value is 0.00e+00\n",
      "The null hypothesis is rejected, the mean aroma rating between the sample and the matched rb is different\n"
     ]
    }
   ],
   "source": [
    "# Perform the t-test for aromas\n",
    "t_statistic_aroma, p_value_aroma = stats.ttest_ind(aroma_col_full_sample.astype(float), aroma_col_rb.astype(float))\n",
    "\n",
    "print(\"The t-statistic is {:.2f}\".format(t_statistic_aroma))\n",
    "print(\"The p-value is {:.2e}\".format(p_value_aroma))\n",
    "\n",
    "if p_value < 0.05:\n",
    "    print(\"The null hypothesis is rejected, the mean aroma rating between the sample and the matched rb is different\")\n",
    "else:\n",
    "    print(\"The null hypothesis is accepted, the difference between the aroma rating for the sample and matched rb is not statistically significant\")"
   ]
  },
  {
   "cell_type": "code",
   "execution_count": 59,
   "metadata": {},
   "outputs": [
    {
     "data": {
      "image/png": "[encoded data removed]",
      "text/plain": [
       "<Figure size 1000x400 with 2 Axes>"
      ]
     },
     "metadata": {},
     "output_type": "display_data"
    }
   ],
   "source": [
    "# Compare the palate ratings\n",
    "\n",
    "palate_col_full_sample = make_sample(full_ratings_rb, \"palate\")\n",
    "palate_col_rb = ratings_rb[\"palate\"]\n",
    "make_plots(palate_col_full_sample, palate_col_rb, \"Histogram of palate\", \"Boxplot of palate\")"
   ]
  },
  {
   "cell_type": "code",
   "execution_count": 67,
   "metadata": {},
   "outputs": [
    {
     "name": "stdout",
     "output_type": "stream",
     "text": [
      "The t-statistic is -78.94\n",
      "The p-value is 0.00e+00\n",
      "The null hypothesis is rejected, the mean palate rating between the sample and the matched rb is different\n"
     ]
    }
   ],
   "source": [
    "# Perform the t-test for aromas\n",
    "t_statistic_pal, p_value_pal = stats.ttest_ind(palate_col_full_sample.astype(float), palate_col_rb.astype(float))\n",
    "\n",
    "print(\"The t-statistic is {:.2f}\".format(t_statistic_pal))\n",
    "print(\"The p-value is {:.2e}\".format(p_value_pal))\n",
    "\n",
    "if p_value < 0.05:\n",
    "    print(\"The null hypothesis is rejected, the mean palate rating between the sample and the matched rb is different\")\n",
    "else:\n",
    "    print(\"The null hypothesis is accepted, the difference between the palate rating for the sample and matched rb is not statistically significant\")"
   ]
  },
  {
   "cell_type": "code",
   "execution_count": 60,
   "metadata": {},
   "outputs": [
    {
     "data": {
      "image/png": "[encoded data removed]",
      "text/plain": [
       "<Figure size 1000x400 with 2 Axes>"
      ]
     },
     "metadata": {},
     "output_type": "display_data"
    }
   ],
   "source": [
    "# Compare the taste ratings\n",
    "\n",
    "taste_col_full_sample = make_sample(full_ratings_rb, \"taste\")\n",
    "taste_col_rb = ratings_rb[\"taste\"]\n",
    "make_plots(taste_col_full_sample, taste_col_rb, \"Histogram of taste\", \"Boxplot of taste\")"
   ]
  },
  {
   "cell_type": "code",
   "execution_count": 68,
   "metadata": {},
   "outputs": [
    {
     "name": "stdout",
     "output_type": "stream",
     "text": [
      "The t-statistic is -111.17\n",
      "The p-value is 0.00e+00\n",
      "The null hypothesis is rejected, the mean taste rating between the sample and the matched rb is different\n"
     ]
    }
   ],
   "source": [
    "# Perform the t-test for aromas\n",
    "t_statistic_taste, p_value_taste = stats.ttest_ind(taste_col_full_sample.astype(float), taste_col_rb.astype(float))\n",
    "\n",
    "print(\"The t-statistic is {:.2f}\".format(t_statistic_taste))\n",
    "print(\"The p-value is {:.2e}\".format(p_value_taste))\n",
    "\n",
    "if p_value < 0.05:\n",
    "    print(\"The null hypothesis is rejected, the mean taste rating between the sample and the matched rb is different\")\n",
    "else:\n",
    "    print(\"The null hypothesis is accepted, the difference between the taste rating for the sample and matched rb is not statistically significant\")"
   ]
  },
  {
   "cell_type": "code",
   "execution_count": 61,
   "metadata": {},
   "outputs": [
    {
     "data": {
      "image/png": "[encoded data removed]",
      "text/plain": [
       "<Figure size 1000x400 with 2 Axes>"
      ]
     },
     "metadata": {},
     "output_type": "display_data"
    }
   ],
   "source": [
    "# Compare the overall ratings\n",
    "\n",
    "overall_col_full_sample = make_sample(full_ratings_rb, \"overall\")\n",
    "overall_col_rb = ratings_rb[\"overall\"]\n",
    "make_plots(overall_col_full_sample, overall_col_rb, \"Histogram of overall ratings\", \"Boxplot of overall ratings\")"
   ]
  },
  {
   "cell_type": "code",
   "execution_count": 69,
   "metadata": {},
   "outputs": [
    {
     "name": "stdout",
     "output_type": "stream",
     "text": [
      "The t-statistic is -118.73\n",
      "The p-value is 0.00e+00\n",
      "The null hypothesis is rejected, the mean overall rating between the sample and the matched rb is different\n"
     ]
    }
   ],
   "source": [
    "# Perform the t-test for aromas\n",
    "t_statistic_overall, p_value_overall = stats.ttest_ind(overall_col_full_sample.astype(float), overall_col_rb.astype(float))\n",
    "\n",
    "print(\"The t-statistic is {:.2f}\".format(t_statistic_overall))\n",
    "print(\"The p-value is {:.2e}\".format(p_value_overall))\n",
    "\n",
    "if p_value < 0.05:\n",
    "    print(\"The null hypothesis is rejected, the mean overall rating between the sample and the matched rb is different\")\n",
    "else:\n",
    "    print(\"The null hypothesis is accepted, the difference between the overall rating for the sample and matched rb is not statistically significant\")"
   ]
  },
  {
   "cell_type": "code",
   "execution_count": null,
   "metadata": {},
   "outputs": [],
   "source": []
  }
 ],
 "metadata": {
  "kernelspec": {
   "display_name": "Python 3",
   "language": "python",
   "name": "python3"
  },
  "language_info": {
   "codemirror_mode": {
    "name": "ipython",
    "version": 3
   },
   "file_extension": ".py",
   "mimetype": "text/x-python",
   "name": "python",
   "nbconvert_exporter": "python",
   "pygments_lexer": "ipython3",
   "version": "3.9.18"
  }
 },
 "nbformat": 4,
 "nbformat_minor": 2
}
