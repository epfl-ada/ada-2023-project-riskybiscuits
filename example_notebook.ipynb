{
 "cells": [
  {
   "cell_type": "code",
   "execution_count": 13,
   "metadata": {},
   "outputs": [],
   "source": [
    "import pandas as pd\n",
    "import numpy as np\n",
    "from data_loader import get_reviews\n",
    "import pathlib\n",
    "import matplotlib.pyplot as plt\n",
    "import seaborn as sns\n",
    "%matplotlib inline\n",
    "\n",
    "DATA_PATH = pathlib.Path('data')"
   ]
  },
  {
   "cell_type": "code",
   "execution_count": null,
   "metadata": {},
   "outputs": [
    {
     "data": {
      "text/html": [
       "<div>\n",
       "<style scoped>\n",
       "    .dataframe tbody tr th:only-of-type {\n",
       "        vertical-align: middle;\n",
       "    }\n",
       "\n",
       "    .dataframe tbody tr th {\n",
       "        vertical-align: top;\n",
       "    }\n",
       "\n",
       "    .dataframe thead th {\n",
       "        text-align: right;\n",
       "    }\n",
       "</style>\n",
       "<table border=\"1\" class=\"dataframe\">\n",
       "  <thead>\n",
       "    <tr style=\"text-align: right;\">\n",
       "      <th></th>\n",
       "      <th>beer_name</th>\n",
       "      <th>beer_id</th>\n",
       "      <th>brewery_name</th>\n",
       "      <th>brewery_id</th>\n",
       "      <th>style</th>\n",
       "      <th>abv</th>\n",
       "      <th>date</th>\n",
       "      <th>user_name</th>\n",
       "      <th>user_id</th>\n",
       "      <th>appearance</th>\n",
       "      <th>aroma</th>\n",
       "      <th>palate</th>\n",
       "      <th>taste</th>\n",
       "      <th>overall</th>\n",
       "      <th>rating</th>\n",
       "      <th>text</th>\n",
       "      <th>review</th>\n",
       "    </tr>\n",
       "  </thead>\n",
       "  <tbody>\n",
       "    <tr>\n",
       "      <th>0</th>\n",
       "      <td>Legbiter</td>\n",
       "      <td>19827</td>\n",
       "      <td>Strangford Lough Brewing Company Ltd</td>\n",
       "      <td>10093</td>\n",
       "      <td>English Pale Ale</td>\n",
       "      <td>4.8</td>\n",
       "      <td>1360753200</td>\n",
       "      <td>brewdude1982</td>\n",
       "      <td>brewdude1982.691169</td>\n",
       "      <td>4.25</td>\n",
       "      <td>4.5</td>\n",
       "      <td>3.25</td>\n",
       "      <td>3.75</td>\n",
       "      <td>3.75</td>\n",
       "      <td>3.91</td>\n",
       "      <td>This was a 12 oz bottle poured into a snifter....</td>\n",
       "      <td>True</td>\n",
       "    </tr>\n",
       "    <tr>\n",
       "      <th>1</th>\n",
       "      <td>Legbiter</td>\n",
       "      <td>19827</td>\n",
       "      <td>Strangford Lough Brewing Company Ltd</td>\n",
       "      <td>10093</td>\n",
       "      <td>English Pale Ale</td>\n",
       "      <td>4.8</td>\n",
       "      <td>1357729200</td>\n",
       "      <td>AgentMunky</td>\n",
       "      <td>agentmunky.409755</td>\n",
       "      <td>4.0</td>\n",
       "      <td>3.75</td>\n",
       "      <td>3.5</td>\n",
       "      <td>3.5</td>\n",
       "      <td>3.75</td>\n",
       "      <td>3.64</td>\n",
       "      <td>Poured from a 12 ounce bottle into a pilsner g...</td>\n",
       "      <td>True</td>\n",
       "    </tr>\n",
       "    <tr>\n",
       "      <th>2</th>\n",
       "      <td>Legbiter</td>\n",
       "      <td>19827</td>\n",
       "      <td>Strangford Lough Brewing Company Ltd</td>\n",
       "      <td>10093</td>\n",
       "      <td>English Pale Ale</td>\n",
       "      <td>4.8</td>\n",
       "      <td>1353150000</td>\n",
       "      <td>ferrari29</td>\n",
       "      <td>ferrari29.320392</td>\n",
       "      <td>3.0</td>\n",
       "      <td>3.5</td>\n",
       "      <td>2.5</td>\n",
       "      <td>2.5</td>\n",
       "      <td>2.5</td>\n",
       "      <td>2.77</td>\n",
       "      <td>Beer poured from bottle into a Nonic shaped pi...</td>\n",
       "      <td>True</td>\n",
       "    </tr>\n",
       "    <tr>\n",
       "      <th>3</th>\n",
       "      <td>Legbiter</td>\n",
       "      <td>19827</td>\n",
       "      <td>Strangford Lough Brewing Company Ltd</td>\n",
       "      <td>10093</td>\n",
       "      <td>English Pale Ale</td>\n",
       "      <td>4.8</td>\n",
       "      <td>1342260000</td>\n",
       "      <td>OtherShoe2</td>\n",
       "      <td>othershoe2.233642</td>\n",
       "      <td>4.0</td>\n",
       "      <td>3.5</td>\n",
       "      <td>4.0</td>\n",
       "      <td>3.5</td>\n",
       "      <td>4.0</td>\n",
       "      <td>3.68</td>\n",
       "      <td>Pours a rich brownish red with some chill haze...</td>\n",
       "      <td>True</td>\n",
       "    </tr>\n",
       "    <tr>\n",
       "      <th>4</th>\n",
       "      <td>Legbiter</td>\n",
       "      <td>19827</td>\n",
       "      <td>Strangford Lough Brewing Company Ltd</td>\n",
       "      <td>10093</td>\n",
       "      <td>English Pale Ale</td>\n",
       "      <td>4.8</td>\n",
       "      <td>1335607200</td>\n",
       "      <td>brentk56</td>\n",
       "      <td>brentk56.6284</td>\n",
       "      <td>4.5</td>\n",
       "      <td>3.0</td>\n",
       "      <td>3.5</td>\n",
       "      <td>2.5</td>\n",
       "      <td>2.5</td>\n",
       "      <td>2.84</td>\n",
       "      <td>Appearance: These Strangford Lough beers pour ...</td>\n",
       "      <td>True</td>\n",
       "    </tr>\n",
       "  </tbody>\n",
       "</table>\n",
       "</div>"
      ],
      "text/plain": [
       "  beer_name beer_id                          brewery_name brewery_id  \\\n",
       "0  Legbiter   19827  Strangford Lough Brewing Company Ltd      10093   \n",
       "1  Legbiter   19827  Strangford Lough Brewing Company Ltd      10093   \n",
       "2  Legbiter   19827  Strangford Lough Brewing Company Ltd      10093   \n",
       "3  Legbiter   19827  Strangford Lough Brewing Company Ltd      10093   \n",
       "4  Legbiter   19827  Strangford Lough Brewing Company Ltd      10093   \n",
       "\n",
       "              style  abv        date     user_name              user_id  \\\n",
       "0  English Pale Ale  4.8  1360753200  brewdude1982  brewdude1982.691169   \n",
       "1  English Pale Ale  4.8  1357729200    AgentMunky    agentmunky.409755   \n",
       "2  English Pale Ale  4.8  1353150000     ferrari29     ferrari29.320392   \n",
       "3  English Pale Ale  4.8  1342260000    OtherShoe2    othershoe2.233642   \n",
       "4  English Pale Ale  4.8  1335607200      brentk56        brentk56.6284   \n",
       "\n",
       "  appearance aroma palate taste overall rating  \\\n",
       "0       4.25   4.5   3.25  3.75    3.75   3.91   \n",
       "1        4.0  3.75    3.5   3.5    3.75   3.64   \n",
       "2        3.0   3.5    2.5   2.5     2.5   2.77   \n",
       "3        4.0   3.5    4.0   3.5     4.0   3.68   \n",
       "4        4.5   3.0    3.5   2.5     2.5   2.84   \n",
       "\n",
       "                                                text review  \n",
       "0  This was a 12 oz bottle poured into a snifter....   True  \n",
       "1  Poured from a 12 ounce bottle into a pilsner g...   True  \n",
       "2  Beer poured from bottle into a Nonic shaped pi...   True  \n",
       "3  Pours a rich brownish red with some chill haze...   True  \n",
       "4  Appearance: These Strangford Lough beers pour ...   True  "
      ]
     },
     "execution_count": 29,
     "metadata": {},
     "output_type": "execute_result"
    }
   ],
   "source": [
    "path = DATA_PATH / \"matched_beer_data/ratings_with_text_ba.txt\"\n",
    "\n",
    "df_beer = get_reviews(path)\n",
    "df_beer.head()"
   ]
  },
  {
   "cell_type": "code",
   "execution_count": 8,
   "metadata": {},
   "outputs": [
    {
     "data": {
      "text/plain": [
       "beer_name\n",
       "Trappistes Rochefort 10           2968\n",
       "Brooklyn Black Chocolate Stout    2861\n",
       "Delirium Tremens                  1773\n",
       "AleSmith Speedway Stout           1761\n",
       "Titan IPA                         1513\n",
       "                                  ... \n",
       "Scorned Hooker                       1\n",
       "1816 Black Lager                     1\n",
       "3 Star Pale Ale                      1\n",
       "Urhell                               1\n",
       "Ghost Of Rita                        1\n",
       "Name: count, Length: 26448, dtype: int64"
      ]
     },
     "execution_count": 8,
     "metadata": {},
     "output_type": "execute_result"
    }
   ],
   "source": [
    "df_beer[\"beer_name\"].value_counts()"
   ]
  },
  {
   "cell_type": "code",
   "execution_count": 9,
   "metadata": {},
   "outputs": [
    {
     "ename": "FileNotFoundError",
     "evalue": "[Errno 2] No such file or directory: 'data\\\\BeerAdvocate\\\\users.csv'",
     "output_type": "error",
     "traceback": [
      "\u001b[1;31m---------------------------------------------------------------------------\u001b[0m",
      "\u001b[1;31mFileNotFoundError\u001b[0m                         Traceback (most recent call last)",
      "\u001b[1;32mc:\\Users\\Admin\\Desktop\\ADA_RiskyBiscuits\\ada-2023-project-riskybiscuits\\example_notebook.ipynb Cell 4\u001b[0m line \u001b[0;36m3\n\u001b[0;32m      <a href='vscode-notebook-cell:/c%3A/Users/Admin/Desktop/ADA_RiskyBiscuits/ada-2023-project-riskybiscuits/example_notebook.ipynb#W3sZmlsZQ%3D%3D?line=0'>1</a>\u001b[0m \u001b[39m# Let's load from BeerAdvocate, RateBeer and matched_beer_data the users.csv\u001b[39;00m\n\u001b[1;32m----> <a href='vscode-notebook-cell:/c%3A/Users/Admin/Desktop/ADA_RiskyBiscuits/ada-2023-project-riskybiscuits/example_notebook.ipynb#W3sZmlsZQ%3D%3D?line=2'>3</a>\u001b[0m users_ba \u001b[39m=\u001b[39m pd\u001b[39m.\u001b[39;49mread_csv(DATA_PATH \u001b[39m/\u001b[39;49m \u001b[39m\"\u001b[39;49m\u001b[39mBeerAdvocate/users.csv\u001b[39;49m\u001b[39m\"\u001b[39;49m)\n\u001b[0;32m      <a href='vscode-notebook-cell:/c%3A/Users/Admin/Desktop/ADA_RiskyBiscuits/ada-2023-project-riskybiscuits/example_notebook.ipynb#W3sZmlsZQ%3D%3D?line=3'>4</a>\u001b[0m users_ma \u001b[39m=\u001b[39m pd\u001b[39m.\u001b[39mread_csv(DATA_PATH \u001b[39m/\u001b[39m \u001b[39m\"\u001b[39m\u001b[39mmatched_beer_data/users.csv\u001b[39m\u001b[39m\"\u001b[39m)\n\u001b[0;32m      <a href='vscode-notebook-cell:/c%3A/Users/Admin/Desktop/ADA_RiskyBiscuits/ada-2023-project-riskybiscuits/example_notebook.ipynb#W3sZmlsZQ%3D%3D?line=4'>5</a>\u001b[0m users_rb \u001b[39m=\u001b[39m pd\u001b[39m.\u001b[39mread_csv(DATA_PATH \u001b[39m/\u001b[39m \u001b[39m\"\u001b[39m\u001b[39mRateBeer/users.csv\u001b[39m\u001b[39m\"\u001b[39m)\n",
      "File \u001b[1;32m~\\AppData\\Local\\Packages\\PythonSoftwareFoundation.Python.3.11_qbz5n2kfra8p0\\LocalCache\\local-packages\\Python311\\site-packages\\pandas\\io\\parsers\\readers.py:948\u001b[0m, in \u001b[0;36mread_csv\u001b[1;34m(filepath_or_buffer, sep, delimiter, header, names, index_col, usecols, dtype, engine, converters, true_values, false_values, skipinitialspace, skiprows, skipfooter, nrows, na_values, keep_default_na, na_filter, verbose, skip_blank_lines, parse_dates, infer_datetime_format, keep_date_col, date_parser, date_format, dayfirst, cache_dates, iterator, chunksize, compression, thousands, decimal, lineterminator, quotechar, quoting, doublequote, escapechar, comment, encoding, encoding_errors, dialect, on_bad_lines, delim_whitespace, low_memory, memory_map, float_precision, storage_options, dtype_backend)\u001b[0m\n\u001b[0;32m    935\u001b[0m kwds_defaults \u001b[39m=\u001b[39m _refine_defaults_read(\n\u001b[0;32m    936\u001b[0m     dialect,\n\u001b[0;32m    937\u001b[0m     delimiter,\n\u001b[1;32m   (...)\u001b[0m\n\u001b[0;32m    944\u001b[0m     dtype_backend\u001b[39m=\u001b[39mdtype_backend,\n\u001b[0;32m    945\u001b[0m )\n\u001b[0;32m    946\u001b[0m kwds\u001b[39m.\u001b[39mupdate(kwds_defaults)\n\u001b[1;32m--> 948\u001b[0m \u001b[39mreturn\u001b[39;00m _read(filepath_or_buffer, kwds)\n",
      "File \u001b[1;32m~\\AppData\\Local\\Packages\\PythonSoftwareFoundation.Python.3.11_qbz5n2kfra8p0\\LocalCache\\local-packages\\Python311\\site-packages\\pandas\\io\\parsers\\readers.py:611\u001b[0m, in \u001b[0;36m_read\u001b[1;34m(filepath_or_buffer, kwds)\u001b[0m\n\u001b[0;32m    608\u001b[0m _validate_names(kwds\u001b[39m.\u001b[39mget(\u001b[39m\"\u001b[39m\u001b[39mnames\u001b[39m\u001b[39m\"\u001b[39m, \u001b[39mNone\u001b[39;00m))\n\u001b[0;32m    610\u001b[0m \u001b[39m# Create the parser.\u001b[39;00m\n\u001b[1;32m--> 611\u001b[0m parser \u001b[39m=\u001b[39m TextFileReader(filepath_or_buffer, \u001b[39m*\u001b[39;49m\u001b[39m*\u001b[39;49mkwds)\n\u001b[0;32m    613\u001b[0m \u001b[39mif\u001b[39;00m chunksize \u001b[39mor\u001b[39;00m iterator:\n\u001b[0;32m    614\u001b[0m     \u001b[39mreturn\u001b[39;00m parser\n",
      "File \u001b[1;32m~\\AppData\\Local\\Packages\\PythonSoftwareFoundation.Python.3.11_qbz5n2kfra8p0\\LocalCache\\local-packages\\Python311\\site-packages\\pandas\\io\\parsers\\readers.py:1448\u001b[0m, in \u001b[0;36mTextFileReader.__init__\u001b[1;34m(self, f, engine, **kwds)\u001b[0m\n\u001b[0;32m   1445\u001b[0m     \u001b[39mself\u001b[39m\u001b[39m.\u001b[39moptions[\u001b[39m\"\u001b[39m\u001b[39mhas_index_names\u001b[39m\u001b[39m\"\u001b[39m] \u001b[39m=\u001b[39m kwds[\u001b[39m\"\u001b[39m\u001b[39mhas_index_names\u001b[39m\u001b[39m\"\u001b[39m]\n\u001b[0;32m   1447\u001b[0m \u001b[39mself\u001b[39m\u001b[39m.\u001b[39mhandles: IOHandles \u001b[39m|\u001b[39m \u001b[39mNone\u001b[39;00m \u001b[39m=\u001b[39m \u001b[39mNone\u001b[39;00m\n\u001b[1;32m-> 1448\u001b[0m \u001b[39mself\u001b[39m\u001b[39m.\u001b[39m_engine \u001b[39m=\u001b[39m \u001b[39mself\u001b[39;49m\u001b[39m.\u001b[39;49m_make_engine(f, \u001b[39mself\u001b[39;49m\u001b[39m.\u001b[39;49mengine)\n",
      "File \u001b[1;32m~\\AppData\\Local\\Packages\\PythonSoftwareFoundation.Python.3.11_qbz5n2kfra8p0\\LocalCache\\local-packages\\Python311\\site-packages\\pandas\\io\\parsers\\readers.py:1705\u001b[0m, in \u001b[0;36mTextFileReader._make_engine\u001b[1;34m(self, f, engine)\u001b[0m\n\u001b[0;32m   1703\u001b[0m     \u001b[39mif\u001b[39;00m \u001b[39m\"\u001b[39m\u001b[39mb\u001b[39m\u001b[39m\"\u001b[39m \u001b[39mnot\u001b[39;00m \u001b[39min\u001b[39;00m mode:\n\u001b[0;32m   1704\u001b[0m         mode \u001b[39m+\u001b[39m\u001b[39m=\u001b[39m \u001b[39m\"\u001b[39m\u001b[39mb\u001b[39m\u001b[39m\"\u001b[39m\n\u001b[1;32m-> 1705\u001b[0m \u001b[39mself\u001b[39m\u001b[39m.\u001b[39mhandles \u001b[39m=\u001b[39m get_handle(\n\u001b[0;32m   1706\u001b[0m     f,\n\u001b[0;32m   1707\u001b[0m     mode,\n\u001b[0;32m   1708\u001b[0m     encoding\u001b[39m=\u001b[39;49m\u001b[39mself\u001b[39;49m\u001b[39m.\u001b[39;49moptions\u001b[39m.\u001b[39;49mget(\u001b[39m\"\u001b[39;49m\u001b[39mencoding\u001b[39;49m\u001b[39m\"\u001b[39;49m, \u001b[39mNone\u001b[39;49;00m),\n\u001b[0;32m   1709\u001b[0m     compression\u001b[39m=\u001b[39;49m\u001b[39mself\u001b[39;49m\u001b[39m.\u001b[39;49moptions\u001b[39m.\u001b[39;49mget(\u001b[39m\"\u001b[39;49m\u001b[39mcompression\u001b[39;49m\u001b[39m\"\u001b[39;49m, \u001b[39mNone\u001b[39;49;00m),\n\u001b[0;32m   1710\u001b[0m     memory_map\u001b[39m=\u001b[39;49m\u001b[39mself\u001b[39;49m\u001b[39m.\u001b[39;49moptions\u001b[39m.\u001b[39;49mget(\u001b[39m\"\u001b[39;49m\u001b[39mmemory_map\u001b[39;49m\u001b[39m\"\u001b[39;49m, \u001b[39mFalse\u001b[39;49;00m),\n\u001b[0;32m   1711\u001b[0m     is_text\u001b[39m=\u001b[39;49mis_text,\n\u001b[0;32m   1712\u001b[0m     errors\u001b[39m=\u001b[39;49m\u001b[39mself\u001b[39;49m\u001b[39m.\u001b[39;49moptions\u001b[39m.\u001b[39;49mget(\u001b[39m\"\u001b[39;49m\u001b[39mencoding_errors\u001b[39;49m\u001b[39m\"\u001b[39;49m, \u001b[39m\"\u001b[39;49m\u001b[39mstrict\u001b[39;49m\u001b[39m\"\u001b[39;49m),\n\u001b[0;32m   1713\u001b[0m     storage_options\u001b[39m=\u001b[39;49m\u001b[39mself\u001b[39;49m\u001b[39m.\u001b[39;49moptions\u001b[39m.\u001b[39;49mget(\u001b[39m\"\u001b[39;49m\u001b[39mstorage_options\u001b[39;49m\u001b[39m\"\u001b[39;49m, \u001b[39mNone\u001b[39;49;00m),\n\u001b[0;32m   1714\u001b[0m )\n\u001b[0;32m   1715\u001b[0m \u001b[39massert\u001b[39;00m \u001b[39mself\u001b[39m\u001b[39m.\u001b[39mhandles \u001b[39mis\u001b[39;00m \u001b[39mnot\u001b[39;00m \u001b[39mNone\u001b[39;00m\n\u001b[0;32m   1716\u001b[0m f \u001b[39m=\u001b[39m \u001b[39mself\u001b[39m\u001b[39m.\u001b[39mhandles\u001b[39m.\u001b[39mhandle\n",
      "File \u001b[1;32m~\\AppData\\Local\\Packages\\PythonSoftwareFoundation.Python.3.11_qbz5n2kfra8p0\\LocalCache\\local-packages\\Python311\\site-packages\\pandas\\io\\common.py:863\u001b[0m, in \u001b[0;36mget_handle\u001b[1;34m(path_or_buf, mode, encoding, compression, memory_map, is_text, errors, storage_options)\u001b[0m\n\u001b[0;32m    858\u001b[0m \u001b[39melif\u001b[39;00m \u001b[39misinstance\u001b[39m(handle, \u001b[39mstr\u001b[39m):\n\u001b[0;32m    859\u001b[0m     \u001b[39m# Check whether the filename is to be opened in binary mode.\u001b[39;00m\n\u001b[0;32m    860\u001b[0m     \u001b[39m# Binary mode does not support 'encoding' and 'newline'.\u001b[39;00m\n\u001b[0;32m    861\u001b[0m     \u001b[39mif\u001b[39;00m ioargs\u001b[39m.\u001b[39mencoding \u001b[39mand\u001b[39;00m \u001b[39m\"\u001b[39m\u001b[39mb\u001b[39m\u001b[39m\"\u001b[39m \u001b[39mnot\u001b[39;00m \u001b[39min\u001b[39;00m ioargs\u001b[39m.\u001b[39mmode:\n\u001b[0;32m    862\u001b[0m         \u001b[39m# Encoding\u001b[39;00m\n\u001b[1;32m--> 863\u001b[0m         handle \u001b[39m=\u001b[39m \u001b[39mopen\u001b[39;49m(\n\u001b[0;32m    864\u001b[0m             handle,\n\u001b[0;32m    865\u001b[0m             ioargs\u001b[39m.\u001b[39;49mmode,\n\u001b[0;32m    866\u001b[0m             encoding\u001b[39m=\u001b[39;49mioargs\u001b[39m.\u001b[39;49mencoding,\n\u001b[0;32m    867\u001b[0m             errors\u001b[39m=\u001b[39;49merrors,\n\u001b[0;32m    868\u001b[0m             newline\u001b[39m=\u001b[39;49m\u001b[39m\"\u001b[39;49m\u001b[39m\"\u001b[39;49m,\n\u001b[0;32m    869\u001b[0m         )\n\u001b[0;32m    870\u001b[0m     \u001b[39melse\u001b[39;00m:\n\u001b[0;32m    871\u001b[0m         \u001b[39m# Binary mode\u001b[39;00m\n\u001b[0;32m    872\u001b[0m         handle \u001b[39m=\u001b[39m \u001b[39mopen\u001b[39m(handle, ioargs\u001b[39m.\u001b[39mmode)\n",
      "\u001b[1;31mFileNotFoundError\u001b[0m: [Errno 2] No such file or directory: 'data\\\\BeerAdvocate\\\\users.csv'"
     ]
    }
   ],
   "source": [
    "# Let's load from BeerAdvocate, RateBeer and matched_beer_data the users.csv\n",
    "\n",
    "users_ba = pd.read_csv(DATA_PATH / \"BeerAdvocate/users.csv\")\n",
    "users_ma = pd.read_csv(DATA_PATH / \"matched_beer_data/users.csv\")\n",
    "users_rb = pd.read_csv(DATA_PATH / \"RateBeer/users.csv\")"
   ]
  },
  {
   "cell_type": "code",
   "execution_count": null,
   "metadata": {},
   "outputs": [
    {
     "name": "stdout",
     "output_type": "stream",
     "text": [
      "BeerAdvocate shape: 153704 rows, 6 columns\n",
      "Matched shape: 3021 rows, 13 columns\n",
      "RateBeer shape: 70174 rows, 5 columns\n",
      "Columns of BA: Index(['nbr_ratings', 'nbr_reviews', 'user_id', 'user_name', 'joined',\n",
      "       'location'],\n",
      "      dtype='object')\n",
      "Columns of MA: Index(['ba', 'ba.1', 'ba.2', 'ba.3', 'ba.4', 'ba.5', 'ba.6', 'rb', 'rb.1',\n",
      "       'rb.2', 'rb.3', 'rb.4', 'rb.5'],\n",
      "      dtype='object')\n",
      "Columns of RB: Index(['nbr_ratings', 'user_id', 'user_name', 'joined', 'location'], dtype='object')\n"
     ]
    }
   ],
   "source": [
    "# Just display amount of rows and columns\n",
    "\n",
    "print(\"BeerAdvocate shape: {} rows, {} columns\".format(*users_ba.shape))\n",
    "print(\"Matched shape: {} rows, {} columns\".format(*users_ma.shape))\n",
    "print(\"RateBeer shape: {} rows, {} columns\".format(*users_rb.shape))\n",
    "\n",
    "print(\"Columns of BA: {}\".format(users_ba.columns))\n",
    "print(\"Columns of MA: {}\".format(users_ma.columns))\n",
    "print(\"Columns of RB: {}\".format(users_rb.columns))"
   ]
  },
  {
   "cell_type": "code",
   "execution_count": null,
   "metadata": {},
   "outputs": [
    {
     "data": {
      "text/html": [
       "<div>\n",
       "<style scoped>\n",
       "    .dataframe tbody tr th:only-of-type {\n",
       "        vertical-align: middle;\n",
       "    }\n",
       "\n",
       "    .dataframe tbody tr th {\n",
       "        vertical-align: top;\n",
       "    }\n",
       "\n",
       "    .dataframe thead th {\n",
       "        text-align: right;\n",
       "    }\n",
       "</style>\n",
       "<table border=\"1\" class=\"dataframe\">\n",
       "  <thead>\n",
       "    <tr style=\"text-align: right;\">\n",
       "      <th></th>\n",
       "      <th>nbr_ratings</th>\n",
       "      <th>nbr_reviews</th>\n",
       "      <th>user_id</th>\n",
       "      <th>user_name</th>\n",
       "      <th>joined</th>\n",
       "      <th>location</th>\n",
       "    </tr>\n",
       "  </thead>\n",
       "  <tbody>\n",
       "    <tr>\n",
       "      <th>0</th>\n",
       "      <td>7820</td>\n",
       "      <td>465</td>\n",
       "      <td>nmann08.184925</td>\n",
       "      <td>nmann08</td>\n",
       "      <td>1.199704e+09</td>\n",
       "      <td>United States, Washington</td>\n",
       "    </tr>\n",
       "    <tr>\n",
       "      <th>1</th>\n",
       "      <td>2521</td>\n",
       "      <td>2504</td>\n",
       "      <td>stjamesgate.163714</td>\n",
       "      <td>StJamesGate</td>\n",
       "      <td>1.191838e+09</td>\n",
       "      <td>United States, New York</td>\n",
       "    </tr>\n",
       "    <tr>\n",
       "      <th>2</th>\n",
       "      <td>1797</td>\n",
       "      <td>1143</td>\n",
       "      <td>mdagnew.19527</td>\n",
       "      <td>mdagnew</td>\n",
       "      <td>1.116410e+09</td>\n",
       "      <td>Northern Ireland</td>\n",
       "    </tr>\n",
       "    <tr>\n",
       "      <th>3</th>\n",
       "      <td>31</td>\n",
       "      <td>31</td>\n",
       "      <td>helloloser12345.10867</td>\n",
       "      <td>helloloser12345</td>\n",
       "      <td>1.101380e+09</td>\n",
       "      <td>Northern Ireland</td>\n",
       "    </tr>\n",
       "    <tr>\n",
       "      <th>4</th>\n",
       "      <td>604</td>\n",
       "      <td>604</td>\n",
       "      <td>cypressbob.3708</td>\n",
       "      <td>cypressbob</td>\n",
       "      <td>1.069326e+09</td>\n",
       "      <td>Northern Ireland</td>\n",
       "    </tr>\n",
       "  </tbody>\n",
       "</table>\n",
       "</div>"
      ],
      "text/plain": [
       "   nbr_ratings  nbr_reviews                user_id        user_name  \\\n",
       "0         7820          465         nmann08.184925          nmann08   \n",
       "1         2521         2504     stjamesgate.163714      StJamesGate   \n",
       "2         1797         1143          mdagnew.19527          mdagnew   \n",
       "3           31           31  helloloser12345.10867  helloloser12345   \n",
       "4          604          604        cypressbob.3708       cypressbob   \n",
       "\n",
       "         joined                   location  \n",
       "0  1.199704e+09  United States, Washington  \n",
       "1  1.191838e+09    United States, New York  \n",
       "2  1.116410e+09           Northern Ireland  \n",
       "3  1.101380e+09           Northern Ireland  \n",
       "4  1.069326e+09           Northern Ireland  "
      ]
     },
     "execution_count": 6,
     "metadata": {},
     "output_type": "execute_result"
    }
   ],
   "source": [
    "users_ba.head()"
   ]
  },
  {
   "cell_type": "code",
   "execution_count": null,
   "metadata": {},
   "outputs": [
    {
     "data": {
      "text/html": [
       "<div>\n",
       "<style scoped>\n",
       "    .dataframe tbody tr th:only-of-type {\n",
       "        vertical-align: middle;\n",
       "    }\n",
       "\n",
       "    .dataframe tbody tr th {\n",
       "        vertical-align: top;\n",
       "    }\n",
       "\n",
       "    .dataframe thead th {\n",
       "        text-align: right;\n",
       "    }\n",
       "</style>\n",
       "<table border=\"1\" class=\"dataframe\">\n",
       "  <thead>\n",
       "    <tr style=\"text-align: right;\">\n",
       "      <th></th>\n",
       "      <th>ba</th>\n",
       "      <th>ba.1</th>\n",
       "      <th>ba.2</th>\n",
       "      <th>ba.3</th>\n",
       "      <th>ba.4</th>\n",
       "      <th>ba.5</th>\n",
       "      <th>ba.6</th>\n",
       "      <th>rb</th>\n",
       "      <th>rb.1</th>\n",
       "      <th>rb.2</th>\n",
       "      <th>rb.3</th>\n",
       "      <th>rb.4</th>\n",
       "      <th>rb.5</th>\n",
       "    </tr>\n",
       "  </thead>\n",
       "  <tbody>\n",
       "    <tr>\n",
       "      <th>0</th>\n",
       "      <td>joined</td>\n",
       "      <td>location</td>\n",
       "      <td>nbr_ratings</td>\n",
       "      <td>nbr_reviews</td>\n",
       "      <td>user_id</td>\n",
       "      <td>user_name</td>\n",
       "      <td>user_name_lower</td>\n",
       "      <td>joined</td>\n",
       "      <td>location</td>\n",
       "      <td>nbr_ratings</td>\n",
       "      <td>user_id</td>\n",
       "      <td>user_name</td>\n",
       "      <td>user_name_lower</td>\n",
       "    </tr>\n",
       "    <tr>\n",
       "      <th>1</th>\n",
       "      <td>1220868000.0</td>\n",
       "      <td>Germany</td>\n",
       "      <td>6</td>\n",
       "      <td>6</td>\n",
       "      <td>erzengel.248045</td>\n",
       "      <td>Erzengel</td>\n",
       "      <td>erzengel</td>\n",
       "      <td>1224324000.0</td>\n",
       "      <td>Germany</td>\n",
       "      <td>8781</td>\n",
       "      <td>83106</td>\n",
       "      <td>Erzengel</td>\n",
       "      <td>erzengel</td>\n",
       "    </tr>\n",
       "    <tr>\n",
       "      <th>2</th>\n",
       "      <td>1348394400.0</td>\n",
       "      <td>United States, Virginia</td>\n",
       "      <td>1</td>\n",
       "      <td>1</td>\n",
       "      <td>gendv138.695700</td>\n",
       "      <td>GenDV138</td>\n",
       "      <td>gendv138</td>\n",
       "      <td>1385722800.0</td>\n",
       "      <td>United States, Virginia</td>\n",
       "      <td>6240</td>\n",
       "      <td>290599</td>\n",
       "      <td>GenDV138</td>\n",
       "      <td>gendv138</td>\n",
       "    </tr>\n",
       "    <tr>\n",
       "      <th>3</th>\n",
       "      <td>1207303200.0</td>\n",
       "      <td>United States, Washington</td>\n",
       "      <td>3</td>\n",
       "      <td>3</td>\n",
       "      <td>nimbleprop.208928</td>\n",
       "      <td>nimbleprop</td>\n",
       "      <td>nimbleprop</td>\n",
       "      <td>1150797600.0</td>\n",
       "      <td>United States, Washington</td>\n",
       "      <td>7452</td>\n",
       "      <td>38859</td>\n",
       "      <td>nimbleprop</td>\n",
       "      <td>nimbleprop</td>\n",
       "    </tr>\n",
       "    <tr>\n",
       "      <th>4</th>\n",
       "      <td>1322737200.0</td>\n",
       "      <td>Estonia</td>\n",
       "      <td>11</td>\n",
       "      <td>0</td>\n",
       "      <td>visionthing.639993</td>\n",
       "      <td>visionthing</td>\n",
       "      <td>visionthing</td>\n",
       "      <td>1242986400.0</td>\n",
       "      <td>Estonia</td>\n",
       "      <td>5462</td>\n",
       "      <td>91324</td>\n",
       "      <td>visionthing</td>\n",
       "      <td>visionthing</td>\n",
       "    </tr>\n",
       "  </tbody>\n",
       "</table>\n",
       "</div>"
      ],
      "text/plain": [
       "             ba                       ba.1         ba.2         ba.3  \\\n",
       "0        joined                   location  nbr_ratings  nbr_reviews   \n",
       "1  1220868000.0                    Germany            6            6   \n",
       "2  1348394400.0    United States, Virginia            1            1   \n",
       "3  1207303200.0  United States, Washington            3            3   \n",
       "4  1322737200.0                    Estonia           11            0   \n",
       "\n",
       "                 ba.4         ba.5             ba.6            rb  \\\n",
       "0             user_id    user_name  user_name_lower        joined   \n",
       "1     erzengel.248045     Erzengel         erzengel  1224324000.0   \n",
       "2     gendv138.695700     GenDV138         gendv138  1385722800.0   \n",
       "3   nimbleprop.208928   nimbleprop       nimbleprop  1150797600.0   \n",
       "4  visionthing.639993  visionthing      visionthing  1242986400.0   \n",
       "\n",
       "                        rb.1         rb.2     rb.3         rb.4  \\\n",
       "0                   location  nbr_ratings  user_id    user_name   \n",
       "1                    Germany         8781    83106     Erzengel   \n",
       "2    United States, Virginia         6240   290599     GenDV138   \n",
       "3  United States, Washington         7452    38859   nimbleprop   \n",
       "4                    Estonia         5462    91324  visionthing   \n",
       "\n",
       "              rb.5  \n",
       "0  user_name_lower  \n",
       "1         erzengel  \n",
       "2         gendv138  \n",
       "3       nimbleprop  \n",
       "4      visionthing  "
      ]
     },
     "execution_count": 7,
     "metadata": {},
     "output_type": "execute_result"
    }
   ],
   "source": [
    "users_ma.head()"
   ]
  },
  {
   "cell_type": "markdown",
   "metadata": {},
   "source": [
    "=> matched users always have the same user_name in ba and rb => we can get rid of one column\n",
    "\n",
    "=> if location NAN then joined NAN"
   ]
  },
  {
   "cell_type": "code",
   "execution_count": null,
   "metadata": {},
   "outputs": [
    {
     "data": {
      "text/html": [
       "<div>\n",
       "<style scoped>\n",
       "    .dataframe tbody tr th:only-of-type {\n",
       "        vertical-align: middle;\n",
       "    }\n",
       "\n",
       "    .dataframe tbody tr th {\n",
       "        vertical-align: top;\n",
       "    }\n",
       "\n",
       "    .dataframe thead th {\n",
       "        text-align: right;\n",
       "    }\n",
       "</style>\n",
       "<table border=\"1\" class=\"dataframe\">\n",
       "  <thead>\n",
       "    <tr style=\"text-align: right;\">\n",
       "      <th></th>\n",
       "      <th>nbr_ratings_x</th>\n",
       "      <th>nbr_reviews</th>\n",
       "      <th>user_id_x</th>\n",
       "      <th>user_name</th>\n",
       "      <th>joined_x</th>\n",
       "      <th>location_x</th>\n",
       "      <th>nbr_ratings_y</th>\n",
       "      <th>user_id_y</th>\n",
       "      <th>joined_y</th>\n",
       "      <th>location_y</th>\n",
       "    </tr>\n",
       "  </thead>\n",
       "  <tbody>\n",
       "    <tr>\n",
       "      <th>0</th>\n",
       "      <td>7820</td>\n",
       "      <td>465</td>\n",
       "      <td>nmann08.184925</td>\n",
       "      <td>nmann08</td>\n",
       "      <td>1.199704e+09</td>\n",
       "      <td>United States, Washington</td>\n",
       "      <td>3</td>\n",
       "      <td>101495</td>\n",
       "      <td>1.265800e+09</td>\n",
       "      <td>United States, Washington</td>\n",
       "    </tr>\n",
       "    <tr>\n",
       "      <th>1</th>\n",
       "      <td>1866</td>\n",
       "      <td>23</td>\n",
       "      <td>rochefortchris.697017</td>\n",
       "      <td>RochefortChris</td>\n",
       "      <td>1.349172e+09</td>\n",
       "      <td>United States, North Carolina</td>\n",
       "      <td>8</td>\n",
       "      <td>213410</td>\n",
       "      <td>1.345975e+09</td>\n",
       "      <td>United States, South Carolina</td>\n",
       "    </tr>\n",
       "    <tr>\n",
       "      <th>2</th>\n",
       "      <td>6306</td>\n",
       "      <td>6306</td>\n",
       "      <td>brentk56.6284</td>\n",
       "      <td>brentk56</td>\n",
       "      <td>1.084442e+09</td>\n",
       "      <td>United States, North Carolina</td>\n",
       "      <td>1</td>\n",
       "      <td>26838</td>\n",
       "      <td>1.125742e+09</td>\n",
       "      <td>United States, North Carolina</td>\n",
       "    </tr>\n",
       "    <tr>\n",
       "      <th>3</th>\n",
       "      <td>6260</td>\n",
       "      <td>4734</td>\n",
       "      <td>emerge077.17949</td>\n",
       "      <td>emerge077</td>\n",
       "      <td>1.113646e+09</td>\n",
       "      <td>United States, Illinois</td>\n",
       "      <td>40</td>\n",
       "      <td>46216</td>\n",
       "      <td>1.165576e+09</td>\n",
       "      <td>United States, Illinois</td>\n",
       "    </tr>\n",
       "    <tr>\n",
       "      <th>4</th>\n",
       "      <td>1851</td>\n",
       "      <td>10</td>\n",
       "      <td>buckyp.435592</td>\n",
       "      <td>buckyp</td>\n",
       "      <td>1.267960e+09</td>\n",
       "      <td>United States, South Carolina</td>\n",
       "      <td>20</td>\n",
       "      <td>68888</td>\n",
       "      <td>1.201864e+09</td>\n",
       "      <td>United States, Georgia</td>\n",
       "    </tr>\n",
       "  </tbody>\n",
       "</table>\n",
       "</div>"
      ],
      "text/plain": [
       "   nbr_ratings_x  nbr_reviews              user_id_x       user_name  \\\n",
       "0           7820          465         nmann08.184925         nmann08   \n",
       "1           1866           23  rochefortchris.697017  RochefortChris   \n",
       "2           6306         6306          brentk56.6284        brentk56   \n",
       "3           6260         4734        emerge077.17949       emerge077   \n",
       "4           1851           10          buckyp.435592          buckyp   \n",
       "\n",
       "       joined_x                     location_x  nbr_ratings_y  user_id_y  \\\n",
       "0  1.199704e+09      United States, Washington              3     101495   \n",
       "1  1.349172e+09  United States, North Carolina              8     213410   \n",
       "2  1.084442e+09  United States, North Carolina              1      26838   \n",
       "3  1.113646e+09        United States, Illinois             40      46216   \n",
       "4  1.267960e+09  United States, South Carolina             20      68888   \n",
       "\n",
       "       joined_y                     location_y  \n",
       "0  1.265800e+09      United States, Washington  \n",
       "1  1.345975e+09  United States, South Carolina  \n",
       "2  1.125742e+09  United States, North Carolina  \n",
       "3  1.165576e+09        United States, Illinois  \n",
       "4  1.201864e+09         United States, Georgia  "
      ]
     },
     "execution_count": 8,
     "metadata": {},
     "output_type": "execute_result"
    }
   ],
   "source": [
    "# See how many users are in common between the two datasets BA and RB\n",
    "users_ba_rb = pd.merge(users_ba, users_rb, on=[\"user_name\"], how=\"inner\")\n",
    "\n",
    "users_ba_rb.head()"
   ]
  },
  {
   "cell_type": "code",
   "execution_count": null,
   "metadata": {},
   "outputs": [
    {
     "name": "stdout",
     "output_type": "stream",
     "text": [
      "Shape of filtered BA and RB: 3139 rows, 10 columns\n"
     ]
    }
   ],
   "source": [
    "# Remove if missing data\n",
    "users_ba_rb = users_ba_rb.dropna()\n",
    "\n",
    "print(\"Shape of filtered BA and RB: {} rows, {} columns\".format(*users_ba_rb.shape))"
   ]
  },
  {
   "cell_type": "code",
   "execution_count": null,
   "metadata": {},
   "outputs": [
    {
     "name": "stdout",
     "output_type": "stream",
     "text": [
      "(660, 10)\n"
     ]
    }
   ],
   "source": [
    "# Remove lines from users_ba_rb if the user_name is in users_ma[\"ba.6\"]\n",
    "names_in_ma = users_ma[\"ba.6\"].tolist()[1:]\n",
    "\n",
    "filtered_users_ba_rb = users_ba_rb.copy()\n",
    "filtered_users_ba_rb[\"user_name\"] = filtered_users_ba_rb[\"user_name\"].str.lower()\n",
    "filtered_users_ba_rb = filtered_users_ba_rb[\n",
    "    ~filtered_users_ba_rb[\"user_name\"].isin(names_in_ma)\n",
    "]\n",
    "\n",
    "print(filtered_users_ba_rb.shape)"
   ]
  },
  {
   "cell_type": "markdown",
   "metadata": {},
   "source": [
    "to replicated matched dataset, we did inner join + removed NANs but we have more in our filtered dataset than the matched dataset. We try to udnerstand why.\n",
    "\n",
    "-> 542 lines in matched but not in filtered\n",
    "\n",
    "-> 600 lines in filtered but not in matched"
   ]
  },
  {
   "cell_type": "code",
   "execution_count": null,
   "metadata": {},
   "outputs": [
    {
     "name": "stdout",
     "output_type": "stream",
     "text": [
      "(1, 13)\n"
     ]
    }
   ],
   "source": [
    "# remove lines from users_ma if the user_name is in users_ba_rb\n",
    "\n",
    "names_filter = users_ba[\"user_name\"].to_list()\n",
    "names_filter = [str(name).lower() for name in names_filter]\n",
    "\n",
    "filtered_users_ma = users_ma[~users_ma[\"ba.6\"].isin(names_filter)]\n",
    "print(filtered_users_ma.shape)"
   ]
  },
  {
   "cell_type": "markdown",
   "metadata": {},
   "source": [
    "=> all users in matched are in users_rb and users_ba "
   ]
  },
  {
   "cell_type": "code",
   "execution_count": 12,
   "metadata": {},
   "outputs": [],
   "source": [
    "def get_reviews(file, n_features):\n",
    "    with open(file, \"r\", encoding=\"utf8\") as f:\n",
    "        lines = f.readlines()\n",
    "    lines_without_breaks = [line[:-1] for line in lines if line != \"\\n\"]\n",
    "    data = [line[line.find(\": \") + 2 :] for line in lines_without_breaks]\n",
    "    data = np.array(data, dtype=\"object\")\n",
    "    features = [line[0 : line.find(\": \")] for line in lines[:n_features]]\n",
    "    reviews = data.reshape((-1, n_features))\n",
    "    reviews_df = pd.DataFrame(reviews, columns=features)\n",
    "    return reviews_df"
   ]
  },
  {
   "cell_type": "markdown",
   "metadata": {},
   "source": [
    "Upon looking through the data, we notice that the different text files have a different number of attributes which we give to the `get_reviews` function as `n_features`"
   ]
  },
  {
   "cell_type": "code",
   "execution_count": 64,
   "metadata": {},
   "outputs": [],
   "source": [
    "# make dataframes of the text files\n",
    "\n",
    "ratings_ba = get_reviews(DATA_PATH / \"matched_beer_data/ratings_ba.txt\", 17)\n",
    "ratings_rb = get_reviews(DATA_PATH / \"matched_beer_data/ratings_rb.txt\", 16)\n",
    "ratings_ba_text = get_reviews(\n",
    "    DATA_PATH / \"matched_beer_data/ratings_with_text_ba.txt\", 17\n",
    ")\n",
    "ratings_rb_text = get_reviews(\n",
    "    DATA_PATH / \"matched_beer_data/ratings_with_text_rb.txt\", 16\n",
    ")"
   ]
  },
  {
   "cell_type": "markdown",
   "metadata": {},
   "source": [
    "We now want to understand the difference with these datasets:\n",
    "\n",
    "1. what is the additional columns in ba: `review` which is a bool\n",
    "2. what is the difference between the datasets with and without text:\n",
    "\n",
    "Our hypothesis is that the ratings files from the `matched_beer_data` were made from the matched users. The files from BeerAdvocate and RateBeer are very large so we will try not to work with them."
   ]
  },
  {
   "cell_type": "code",
   "execution_count": null,
   "metadata": {},
   "outputs": [
    {
     "name": "stdout",
     "output_type": "stream",
     "text": [
      "Shape of BA: 955968 rows, 17 columns\n",
      "Shape of RB: 1020638 rows, 16 columns\n",
      "Shape of BA with text: 289025 rows, 17 columns\n",
      "Shape of RB with text: 1020599 rows, 16 columns\n"
     ]
    }
   ],
   "source": [
    "# comparison of dataframes sizes\n",
    "\n",
    "print(\"Shape of BA: {} rows, {} columns\".format(*ratings_ba.shape))\n",
    "print(\"Shape of RB: {} rows, {} columns\".format(*ratings_rb.shape))\n",
    "print(\"Shape of BA with text: {} rows, {} columns\".format(*ratings_ba_text.shape))\n",
    "print(\"Shape of RB with text: {} rows, {} columns\".format(*ratings_rb_text.shape))"
   ]
  },
  {
   "cell_type": "code",
   "execution_count": null,
   "metadata": {},
   "outputs": [
    {
     "name": "stdout",
     "output_type": "stream",
     "text": [
      "Size of unfiltered users.ma: (3021, 13)\n",
      "Size of users.ma filtered with ba: (1, 13)\n",
      "Size of users.ma filtered with rb: (1, 13)\n"
     ]
    }
   ],
   "source": [
    "# remove lines from users_ma if the user_name is in ratings_ba or ratings_rb\n",
    "\n",
    "names_filter_ba = ratings_ba[\"user_name\"].to_list()\n",
    "names_filter_ba = [str(name).lower() for name in names_filter]\n",
    "names_filter_rb = ratings_rb[\"user_name\"].to_list()\n",
    "names_filter_rb = [str(name).lower() for name in names_filter]\n",
    "\n",
    "filtered_users_ba = users_ma[~users_ma[\"ba.6\"].isin(names_filter_ba)]\n",
    "filtered_users_rb = users_ma[~users_ma[\"ba.6\"].isin(names_filter_rb)]\n",
    "\n",
    "print(\"Size of unfiltered users.ma: {}\".format(users_ma.shape))\n",
    "print(\"Size of users.ma filtered with ba: {}\".format(filtered_users_ba.shape))\n",
    "print(\"Size of users.ma filtered with rb: {}\".format(filtered_users_rb.shape))"
   ]
  },
  {
   "cell_type": "markdown",
   "metadata": {},
   "source": [
    "=> if users_ma has users from `ratings_ba` or `ratings_rb`, then they are in both datasets"
   ]
  },
  {
   "cell_type": "code",
   "execution_count": null,
   "metadata": {},
   "outputs": [
    {
     "name": "stdout",
     "output_type": "stream",
     "text": [
      "(498657, 17)\n"
     ]
    }
   ],
   "source": [
    "# remove lines from ratings_ba if the user_name is in ratings_rb\n",
    "\n",
    "filtered_ba = ratings_ba[~ratings_ba[\"user_name\"].isin(names_filter_rb)]\n",
    "print(filtered_ba.shape)\n",
    "\n",
    "# faire differemment: recuperer list de unique users dans ratings_rb et faire un isin sur ratings_ba"
   ]
  },
  {
   "cell_type": "markdown",
   "metadata": {},
   "source": [
    "=> however the `ratings_ba` and `ratings_rb` have a very different list of user_names"
   ]
  },
  {
   "cell_type": "code",
   "execution_count": null,
   "metadata": {},
   "outputs": [
    {
     "name": "stdout",
     "output_type": "stream",
     "text": [
      "Shape of filtered BA and RB: 12751036 rows, 32 columns\n"
     ]
    }
   ],
   "source": [
    "# See how many users are in common between the ratings_ba and ratings_rb datasets\n",
    "\n",
    "ratings_ba_rb = pd.merge(ratings_ba, ratings_rb, on=[\"user_name\"], how=\"inner\")\n",
    "ratings_ba_rb = ratings_ba_rb.dropna()\n",
    "\n",
    "print(\"Shape of filtered BA and RB: {} rows, {} columns\".format(*ratings_ba_rb.shape))"
   ]
  },
  {
   "cell_type": "markdown",
   "metadata": {},
   "source": [
    "## Comparison between full RB and matched RB datasets"
   ]
  },
  {
   "cell_type": "markdown",
   "metadata": {},
   "source": [
    "We not want to understand the similarities between the `ratings.txt` datasets from RateBeer and BeerAdvocate and the matched files (`ratings_ba.txt` and `ratings_rb.txt`). We therefore load the full datasets from RB and BA, then extract a sample for each column and compare it to the matched data through plots and significance testing (ie. t-test)"
   ]
  },
  {
   "cell_type": "code",
   "execution_count": 18,
   "metadata": {},
   "outputs": [],
   "source": [
    "# get full dataset of ratings RB\n",
    "\n",
    "full_ratings_rb = get_reviews(DATA_PATH / \"RateBeer/ratings.txt\", 16)"
   ]
  },
  {
   "cell_type": "code",
   "execution_count": 19,
   "metadata": {},
   "outputs": [
    {
     "data": {
      "text/html": [
       "<div>\n",
       "<style scoped>\n",
       "    .dataframe tbody tr th:only-of-type {\n",
       "        vertical-align: middle;\n",
       "    }\n",
       "\n",
       "    .dataframe tbody tr th {\n",
       "        vertical-align: top;\n",
       "    }\n",
       "\n",
       "    .dataframe thead th {\n",
       "        text-align: right;\n",
       "    }\n",
       "</style>\n",
       "<table border=\"1\" class=\"dataframe\">\n",
       "  <thead>\n",
       "    <tr style=\"text-align: right;\">\n",
       "      <th></th>\n",
       "      <th>beer_name</th>\n",
       "      <th>beer_id</th>\n",
       "      <th>brewery_name</th>\n",
       "      <th>brewery_id</th>\n",
       "      <th>style</th>\n",
       "      <th>abv</th>\n",
       "      <th>date</th>\n",
       "      <th>user_name</th>\n",
       "      <th>user_id</th>\n",
       "      <th>appearance</th>\n",
       "      <th>aroma</th>\n",
       "      <th>palate</th>\n",
       "      <th>taste</th>\n",
       "      <th>overall</th>\n",
       "      <th>rating</th>\n",
       "      <th>text</th>\n",
       "    </tr>\n",
       "  </thead>\n",
       "  <tbody>\n",
       "    <tr>\n",
       "      <th>0</th>\n",
       "      <td>33 Export (Gabon)</td>\n",
       "      <td>410549</td>\n",
       "      <td>Sobraga</td>\n",
       "      <td>3198</td>\n",
       "      <td>Pale Lager</td>\n",
       "      <td>5.0</td>\n",
       "      <td>1461664800</td>\n",
       "      <td>Manslow</td>\n",
       "      <td>175852</td>\n",
       "      <td>2</td>\n",
       "      <td>4</td>\n",
       "      <td>2</td>\n",
       "      <td>4</td>\n",
       "      <td>8</td>\n",
       "      <td>2.00</td>\n",
       "      <td>Puszka 0,33l dzięki Christoph . Kolor jasnozło...</td>\n",
       "    </tr>\n",
       "    <tr>\n",
       "      <th>1</th>\n",
       "      <td>Castel Beer (Gabon)</td>\n",
       "      <td>105273</td>\n",
       "      <td>Sobraga</td>\n",
       "      <td>3198</td>\n",
       "      <td>Pale Lager</td>\n",
       "      <td>5.2</td>\n",
       "      <td>1487329200</td>\n",
       "      <td>MAGICuenca91</td>\n",
       "      <td>442761</td>\n",
       "      <td>2</td>\n",
       "      <td>3</td>\n",
       "      <td>2</td>\n",
       "      <td>4</td>\n",
       "      <td>8</td>\n",
       "      <td>1.90</td>\n",
       "      <td>Cerveza pale lager gabonesa. MÃ¡s floja que la...</td>\n",
       "    </tr>\n",
       "    <tr>\n",
       "      <th>2</th>\n",
       "      <td>Castel Beer (Gabon)</td>\n",
       "      <td>105273</td>\n",
       "      <td>Sobraga</td>\n",
       "      <td>3198</td>\n",
       "      <td>Pale Lager</td>\n",
       "      <td>5.2</td>\n",
       "      <td>1466762400</td>\n",
       "      <td>Sibarh</td>\n",
       "      <td>288889</td>\n",
       "      <td>3</td>\n",
       "      <td>3</td>\n",
       "      <td>2</td>\n",
       "      <td>3</td>\n",
       "      <td>5</td>\n",
       "      <td>1.60</td>\n",
       "      <td>Kolor- złoty, klarowny. Piana - drobna, średni...</td>\n",
       "    </tr>\n",
       "    <tr>\n",
       "      <th>3</th>\n",
       "      <td>Castel Beer (Gabon)</td>\n",
       "      <td>105273</td>\n",
       "      <td>Sobraga</td>\n",
       "      <td>3198</td>\n",
       "      <td>Pale Lager</td>\n",
       "      <td>5.2</td>\n",
       "      <td>1451646000</td>\n",
       "      <td>fombe89</td>\n",
       "      <td>250510</td>\n",
       "      <td>4</td>\n",
       "      <td>3</td>\n",
       "      <td>1</td>\n",
       "      <td>2</td>\n",
       "      <td>5</td>\n",
       "      <td>1.50</td>\n",
       "      <td>Botella, de GabÃ³n regalo familiar.31/01/2015C...</td>\n",
       "    </tr>\n",
       "    <tr>\n",
       "      <th>4</th>\n",
       "      <td>Castel Beer (Gabon)</td>\n",
       "      <td>105273</td>\n",
       "      <td>Sobraga</td>\n",
       "      <td>3198</td>\n",
       "      <td>Pale Lager</td>\n",
       "      <td>5.2</td>\n",
       "      <td>1445594400</td>\n",
       "      <td>kevnic2008</td>\n",
       "      <td>122778</td>\n",
       "      <td>2</td>\n",
       "      <td>4</td>\n",
       "      <td>2</td>\n",
       "      <td>4</td>\n",
       "      <td>7</td>\n",
       "      <td>1.90</td>\n",
       "      <td>Many thanks for this beer to Erzengel. Pours l...</td>\n",
       "    </tr>\n",
       "  </tbody>\n",
       "</table>\n",
       "</div>"
      ],
      "text/plain": [
       "             beer_name beer_id brewery_name brewery_id       style  abv  \\\n",
       "0    33 Export (Gabon)  410549      Sobraga       3198  Pale Lager  5.0   \n",
       "1  Castel Beer (Gabon)  105273      Sobraga       3198  Pale Lager  5.2   \n",
       "2  Castel Beer (Gabon)  105273      Sobraga       3198  Pale Lager  5.2   \n",
       "3  Castel Beer (Gabon)  105273      Sobraga       3198  Pale Lager  5.2   \n",
       "4  Castel Beer (Gabon)  105273      Sobraga       3198  Pale Lager  5.2   \n",
       "\n",
       "         date     user_name user_id appearance aroma palate taste overall  \\\n",
       "0  1461664800       Manslow  175852          2     4      2     4       8   \n",
       "1  1487329200  MAGICuenca91  442761          2     3      2     4       8   \n",
       "2  1466762400        Sibarh  288889          3     3      2     3       5   \n",
       "3  1451646000       fombe89  250510          4     3      1     2       5   \n",
       "4  1445594400    kevnic2008  122778          2     4      2     4       7   \n",
       "\n",
       "  rating                                               text  \n",
       "0   2.00  Puszka 0,33l dzięki Christoph . Kolor jasnozło...  \n",
       "1   1.90  Cerveza pale lager gabonesa. MÃ¡s floja que la...  \n",
       "2   1.60  Kolor- złoty, klarowny. Piana - drobna, średni...  \n",
       "3   1.50  Botella, de GabÃ³n regalo familiar.31/01/2015C...  \n",
       "4   1.90  Many thanks for this beer to Erzengel. Pours l...  "
      ]
     },
     "execution_count": 19,
     "metadata": {},
     "output_type": "execute_result"
    }
   ],
   "source": [
    "full_ratings_rb.head()"
   ]
  },
  {
   "cell_type": "code",
   "execution_count": 20,
   "metadata": {},
   "outputs": [],
   "source": [
    "# Randomly sample a column from the full rb dataset equal to the length of the column in the matched file\n",
    "\n",
    "\n",
    "def make_sample_rb(col_name):\n",
    "    col_full = full_ratings_rb[col_name]\n",
    "    col_rb = ratings_rb[col_name]\n",
    "    sample = col_full.sample(len(col_rb))\n",
    "    return sample\n",
    "\n",
    "\n",
    "# plot the distribution of the column from the full rb dataset and the matched rb dataset\n",
    "\n",
    "\n",
    "def make_hist(sample, col_rb):\n",
    "    plt.hist(sample, bins=10, alpha=0.5, label=\"Full\")\n",
    "    plt.hist(col_rb, bins=10, alpha=0.5, label=\"RB\")\n",
    "    plt.legend(loc=\"upper right\")\n",
    "    plt.show()\n",
    "\n",
    "\n",
    "def make_boxplot(sample, col_rb):\n",
    "    sns.boxplot(data=[sample, col_rb])\n",
    "    plt.show()\n",
    "\n",
    "\n",
    "def make_plots(sample, col_rb, sample_title, col_title):\n",
    "    fig, ax = plt.subplots(1, 2, figsize=(10, 4), sharey=False, sharex=False)\n",
    "\n",
    "    ax[0].hist(sample, bins=10, alpha=0.5, label=\"Full\")\n",
    "    ax[0].hist(col_rb, bins=10, alpha=0.5, label=\"RB\")\n",
    "    ax[0].legend(loc=\"upper right\")\n",
    "    ax[0].set_title(sample_title)\n",
    "\n",
    "    ax[1] = sns.boxplot(data=[sample, col_rb], ax=ax[1])\n",
    "    ax[1].set_title(col_title)\n",
    "    plt.show()"
   ]
  },
  {
   "cell_type": "code",
   "execution_count": 21,
   "metadata": {},
   "outputs": [
    {
     "data": {
      "image/png": "[encoded data removed]",
      "text/plain": [
       "<Figure size 1000x400 with 2 Axes>"
      ]
     },
     "metadata": {},
     "output_type": "display_data"
    }
   ],
   "source": [
    "# Compare the ratings\n",
    "\n",
    "rating_col_full_sample = make_sample_rb(\"rating\")\n",
    "rating_col_full_sample = rating_col_full_sample.dropna()\n",
    "rating_col_rb = ratings_rb[\"rating\"]\n",
    "rating_col_rb = rating_col_rb.dropna()\n",
    "make_plots(\n",
    "    rating_col_full_sample, rating_col_rb, \"Histogram of ratings\", \"Boxplot of ratings\"\n",
    ")"
   ]
  },
  {
   "cell_type": "code",
   "execution_count": 30,
   "metadata": {},
   "outputs": [
    {
     "name": "stdout",
     "output_type": "stream",
     "text": [
      "Statistics of the ratings from the full dataset\n",
      "count    1.020638e+06\n",
      "mean     3.284913e+00\n",
      "std      6.863852e-01\n",
      "min      5.000000e-01\n",
      "25%      3.000000e+00\n",
      "50%      3.400000e+00\n",
      "75%      3.700000e+00\n",
      "max      5.000000e+00\n",
      "Name: rating, dtype: float64\n",
      "Statistics of the ratings from the matched dataset\n",
      "count    1.020638e+06\n",
      "mean     3.395872e+00\n",
      "std      5.798052e-01\n",
      "min      5.000000e-01\n",
      "25%      3.100000e+00\n",
      "50%      3.500000e+00\n",
      "75%      3.800000e+00\n",
      "max      5.000000e+00\n",
      "Name: rating, dtype: float64\n",
      "Difference in mean: -0.11095883163276277\n",
      "Difference in median: -0.10000000000000009\n",
      "Difference in 25th percentile: -0.10000000000000009\n",
      "Difference in 75th percentile: -0.09999999999999964\n"
     ]
    }
   ],
   "source": [
    "rating_col_full_sample = rating_col_full_sample.astype(float)\n",
    "rating_col_rb = rating_col_rb.astype(float)\n",
    "\n",
    "# Describe the statistics of the ratings\n",
    "print(\"Statistics of the ratings from the full dataset\")\n",
    "print(rating_col_full_sample.describe())\n",
    "\n",
    "print(\"Statistics of the ratings from the matched dataset\")\n",
    "print(rating_col_rb.describe())\n",
    "\n",
    "# Compute the difference in statistics\n",
    "\n",
    "print(\"Difference in mean/median: {}\".format(rating_col_full_sample.mean() - rating_col_rb.mean()))\n",
    "\n",
    "\n"
   ]
  },
  {
   "cell_type": "code",
   "execution_count": 24,
   "metadata": {},
   "outputs": [
    {
     "name": "stdout",
     "output_type": "stream",
     "text": [
      "The t-statistic is -124.76\n",
      "The p-value is 0.000000e+00\n",
      "The null hypothesis is rejected, the mean rating between the sample and the matched rb is different\n"
     ]
    }
   ],
   "source": [
    "import scipy.stats as stats\n",
    "\n",
    "rating_col_full_sample = rating_col_full_sample.astype(float)\n",
    "rating_col_rb = rating_col_rb.astype(float)\n",
    "\n",
    "# Perform the t-test\n",
    "t_statistic, p_value = stats.ttest_ind(rating_col_full_sample, rating_col_rb)\n",
    "\n",
    "print(\"The t-statistic is {:.2f}\".format(t_statistic))\n",
    "print(\"The p-value is {:.6e}\".format(p_value))\n",
    "\n",
    "if p_value < 0.05:\n",
    "    print(\n",
    "        \"The null hypothesis is rejected, the mean rating between the sample and the matched rb is different\"\n",
    "    )\n",
    "else:\n",
    "    print(\n",
    "        \"The null hypothesis is accepted, the difference between the rating for the sample and matched rb is not statistically significant\"\n",
    "    )"
   ]
  },
  {
   "cell_type": "code",
   "execution_count": null,
   "metadata": {},
   "outputs": [
    {
     "name": "stdout",
     "output_type": "stream",
     "text": [
      "(-124.57489318084514, 0.0)\n"
     ]
    }
   ],
   "source": [
    "from statsmodels.stats.weightstats import ztest as ztest\n",
    "\n",
    "ztest_res = ztest(\n",
    "    rating_col_full_sample.astype(float), rating_col_rb.astype(float), value=0\n",
    ")\n",
    "print(ztest_res)"
   ]
  },
  {
   "cell_type": "code",
   "execution_count": null,
   "metadata": {},
   "outputs": [
    {
     "data": {
      "image/png": "[encoded data removed]",
      "text/plain": [
       "<Figure size 1000x400 with 2 Axes>"
      ]
     },
     "metadata": {},
     "output_type": "display_data"
    }
   ],
   "source": [
    "# Compare the appearance\n",
    "\n",
    "app_col_full_sample = make_sample_rb(\"appearance\")\n",
    "app_col_full_sample = app_col_full_sample.dropna()\n",
    "app_col_rb = ratings_rb[\"appearance\"]\n",
    "app_col_rb = app_col_rb.dropna()\n",
    "make_plots(\n",
    "    app_col_full_sample, app_col_rb, \"Histogram of appearance\", \"Boxplot of appearance\"\n",
    ")"
   ]
  },
  {
   "cell_type": "code",
   "execution_count": null,
   "metadata": {},
   "outputs": [
    {
     "name": "stdout",
     "output_type": "stream",
     "text": [
      "The t-statistic is -61.41\n",
      "The p-value is 0.00e+00\n",
      "The null hypothesis is rejected, the mean appearance rating between the sample and the matched rb is different\n"
     ]
    }
   ],
   "source": [
    "# Perform the t-test\n",
    "t_statistic_app, p_value_app = stats.ttest_ind(\n",
    "    app_col_full_sample.astype(float), app_col_rb.astype(float)\n",
    ")\n",
    "\n",
    "print(\"The t-statistic is {:.2f}\".format(t_statistic_app))\n",
    "print(\"The p-value is {:.2e}\".format(p_value_app))\n",
    "\n",
    "if p_value_app < 0.05:\n",
    "    print(\n",
    "        \"The null hypothesis is rejected, the mean appearance rating between the sample and the matched rb is different\"\n",
    "    )\n",
    "else:\n",
    "    print(\n",
    "        \"The null hypothesis is accepted, the difference between the appearance rating for the sample and matched rb is not statistically significant\"\n",
    "    )"
   ]
  },
  {
   "cell_type": "code",
   "execution_count": null,
   "metadata": {},
   "outputs": [
    {
     "data": {
      "image/png": "[encoded data removed]",
      "text/plain": [
       "<Figure size 1000x400 with 2 Axes>"
      ]
     },
     "metadata": {},
     "output_type": "display_data"
    }
   ],
   "source": [
    "# Compare the aromas\n",
    "\n",
    "aroma_col_full_sample = make_sample_rb(\"aroma\")\n",
    "aroma_col_full_sample = aroma_col_full_sample.dropna()\n",
    "aroma_col_rb = ratings_rb[\"aroma\"]\n",
    "aroma_col_rb = aroma_col_rb.dropna()\n",
    "make_plots(\n",
    "    aroma_col_full_sample, aroma_col_rb, \"Histogram of aroma\", \"Boxplot of aroma\"\n",
    ")"
   ]
  },
  {
   "cell_type": "code",
   "execution_count": null,
   "metadata": {},
   "outputs": [
    {
     "name": "stdout",
     "output_type": "stream",
     "text": [
      "The t-statistic is -123.13\n",
      "The p-value is 0.00e+00\n",
      "The null hypothesis is rejected, the mean aroma rating between the sample and the matched rb is different\n"
     ]
    }
   ],
   "source": [
    "# Perform the t-test for aromas\n",
    "t_statistic_aroma, p_value_aroma = stats.ttest_ind(\n",
    "    aroma_col_full_sample.astype(float), aroma_col_rb.astype(float)\n",
    ")\n",
    "\n",
    "print(\"The t-statistic is {:.2f}\".format(t_statistic_aroma))\n",
    "print(\"The p-value is {:.2e}\".format(p_value_aroma))\n",
    "\n",
    "if p_value_aroma < 0.05:\n",
    "    print(\n",
    "        \"The null hypothesis is rejected, the mean aroma rating between the sample and the matched rb is different\"\n",
    "    )\n",
    "else:\n",
    "    print(\n",
    "        \"The null hypothesis is accepted, the difference between the aroma rating for the sample and matched rb is not statistically significant\"\n",
    "    )"
   ]
  },
  {
   "cell_type": "code",
   "execution_count": null,
   "metadata": {},
   "outputs": [
    {
     "data": {
      "image/png": "[encoded data removed]",
      "text/plain": [
       "<Figure size 1000x400 with 2 Axes>"
      ]
     },
     "metadata": {},
     "output_type": "display_data"
    }
   ],
   "source": [
    "# Compare the palate ratings\n",
    "\n",
    "palate_col_full_sample = make_sample_rb(\"palate\")\n",
    "palate_col_full_sample = palate_col_full_sample.dropna()\n",
    "palate_col_rb = ratings_rb[\"palate\"]\n",
    "palate_col_rb = palate_col_rb.dropna()\n",
    "make_plots(\n",
    "    palate_col_full_sample, palate_col_rb, \"Histogram of palate\", \"Boxplot of palate\"\n",
    ")"
   ]
  },
  {
   "cell_type": "code",
   "execution_count": null,
   "metadata": {},
   "outputs": [
    {
     "name": "stdout",
     "output_type": "stream",
     "text": [
      "The t-statistic is -78.94\n",
      "The p-value is 0.00e+00\n",
      "The null hypothesis is rejected, the mean palate rating between the sample and the matched rb is different\n"
     ]
    }
   ],
   "source": [
    "# Perform the t-test for aromas\n",
    "t_statistic_pal, p_value_pal = stats.ttest_ind(\n",
    "    palate_col_full_sample.astype(float), palate_col_rb.astype(float)\n",
    ")\n",
    "\n",
    "print(\"The t-statistic is {:.2f}\".format(t_statistic_pal))\n",
    "print(\"The p-value is {:.2e}\".format(p_value_pal))\n",
    "\n",
    "if p_value_pal < 0.05:\n",
    "    print(\n",
    "        \"The null hypothesis is rejected, the mean palate rating between the sample and the matched rb is different\"\n",
    "    )\n",
    "else:\n",
    "    print(\n",
    "        \"The null hypothesis is accepted, the difference between the palate rating for the sample and matched rb is not statistically significant\"\n",
    "    )"
   ]
  },
  {
   "cell_type": "code",
   "execution_count": null,
   "metadata": {},
   "outputs": [
    {
     "data": {
      "image/png": "[encoded data removed]",
      "text/plain": [
       "<Figure size 1000x400 with 2 Axes>"
      ]
     },
     "metadata": {},
     "output_type": "display_data"
    }
   ],
   "source": [
    "# Compare the taste ratings\n",
    "\n",
    "taste_col_full_sample = make_sample_rb(\"taste\")\n",
    "taste_col_full_sample = taste_col_full_sample.dropna()\n",
    "taste_col_rb = ratings_rb[\"taste\"]\n",
    "taste_col_rb = taste_col_rb.dropna()\n",
    "make_plots(\n",
    "    taste_col_full_sample, taste_col_rb, \"Histogram of taste\", \"Boxplot of taste\"\n",
    ")"
   ]
  },
  {
   "cell_type": "code",
   "execution_count": null,
   "metadata": {},
   "outputs": [
    {
     "name": "stdout",
     "output_type": "stream",
     "text": [
      "The t-statistic is -111.17\n",
      "The p-value is 0.00e+00\n",
      "The null hypothesis is rejected, the mean taste rating between the sample and the matched rb is different\n"
     ]
    }
   ],
   "source": [
    "# Perform the t-test for aromas\n",
    "t_statistic_taste, p_value_taste = stats.ttest_ind(\n",
    "    taste_col_full_sample.astype(float), taste_col_rb.astype(float)\n",
    ")\n",
    "\n",
    "print(\"The t-statistic is {:.2f}\".format(t_statistic_taste))\n",
    "print(\"The p-value is {:.2e}\".format(p_value_taste))\n",
    "\n",
    "if p_value_taste < 0.05:\n",
    "    print(\n",
    "        \"The null hypothesis is rejected, the mean taste rating between the sample and the matched rb is different\"\n",
    "    )\n",
    "else:\n",
    "    print(\n",
    "        \"The null hypothesis is accepted, the difference between the taste rating for the sample and matched rb is not statistically significant\"\n",
    "    )"
   ]
  },
  {
   "cell_type": "code",
   "execution_count": null,
   "metadata": {},
   "outputs": [
    {
     "data": {
      "image/png": "[encoded data removed]",
      "text/plain": [
       "<Figure size 1000x400 with 2 Axes>"
      ]
     },
     "metadata": {},
     "output_type": "display_data"
    }
   ],
   "source": [
    "# Compare the overall ratings\n",
    "\n",
    "overall_col_full_sample = make_sample_rb(\"overall\")\n",
    "overall_col_full_sample = overall_col_full_sample.dropna()\n",
    "overall_col_rb = ratings_rb[\"overall\"]\n",
    "overall_col_rb = overall_col_rb.dropna()\n",
    "make_plots(\n",
    "    overall_col_full_sample,\n",
    "    overall_col_rb,\n",
    "    \"Histogram of overall ratings\",\n",
    "    \"Boxplot of overall ratings\",\n",
    ")"
   ]
  },
  {
   "cell_type": "code",
   "execution_count": null,
   "metadata": {},
   "outputs": [
    {
     "name": "stdout",
     "output_type": "stream",
     "text": [
      "The t-statistic is -118.73\n",
      "The p-value is 0.00e+00\n",
      "The null hypothesis is rejected, the mean overall rating between the sample and the matched rb is different\n"
     ]
    }
   ],
   "source": [
    "# Perform the t-test for aromas\n",
    "t_statistic_overall, p_value_overall = stats.ttest_ind(\n",
    "    overall_col_full_sample.astype(float), overall_col_rb.astype(float)\n",
    ")\n",
    "\n",
    "print(\"The t-statistic is {:.2f}\".format(t_statistic_overall))\n",
    "print(\"The p-value is {:.2e}\".format(p_value_overall))\n",
    "\n",
    "if p_value_overall < 0.05:\n",
    "    print(\n",
    "        \"The null hypothesis is rejected, the mean overall rating between the sample and the matched rb is different\"\n",
    "    )\n",
    "else:\n",
    "    print(\n",
    "        \"The null hypothesis is accepted, the difference between the overall rating for the sample and matched rb is not statistically significant\"\n",
    "    )"
   ]
  },
  {
   "cell_type": "markdown",
   "metadata": {},
   "source": [
    "## Comparison between full BA and matched BA datasets"
   ]
  },
  {
   "cell_type": "code",
   "execution_count": null,
   "metadata": {},
   "outputs": [],
   "source": [
    "# get full dataset of ratings RB\n",
    "\n",
    "full_ratings_ba = get_reviews(DATA_PATH / \"BeerAdvocate/ratings.txt\", 17)"
   ]
  },
  {
   "cell_type": "code",
   "execution_count": null,
   "metadata": {},
   "outputs": [],
   "source": [
    "# Randomly sample a column from the full rb dataset equal to the length of the column in the matched file\n",
    "\n",
    "\n",
    "def make_sample_ba(col_name):\n",
    "    col_full = full_ratings_ba[col_name]\n",
    "\n",
    "    col_ba = ratings_ba[col_name]\n",
    "\n",
    "    sample = col_full.sample(len(col_ba))\n",
    "    return sample"
   ]
  },
  {
   "cell_type": "code",
   "execution_count": null,
   "metadata": {},
   "outputs": [
    {
     "data": {
      "image/png": "[encoded data removed]",
      "text/plain": [
       "<Figure size 1000x400 with 2 Axes>"
      ]
     },
     "metadata": {},
     "output_type": "display_data"
    }
   ],
   "source": [
    "# Compare the ratings\n",
    "\n",
    "rating_col_full_sample = make_sample_ba(\"rating\")\n",
    "rating_col_full_sample = rating_col_full_sample.dropna()\n",
    "rating_col_ba = ratings_ba[\"rating\"]\n",
    "rating_col_ba = rating_col_ba.dropna()\n",
    "make_plots(\n",
    "    rating_col_full_sample, rating_col_ba, \"Histogram of ratings\", \"Boxplot of ratings\"\n",
    ")"
   ]
  },
  {
   "cell_type": "code",
   "execution_count": null,
   "metadata": {},
   "outputs": [
    {
     "name": "stdout",
     "output_type": "stream",
     "text": [
      "The t-statistic is -31.36\n",
      "The p-value is 9.11e-216\n",
      "The null hypothesis is rejected, the mean rating rating between the sample and the matched rb is different\n"
     ]
    }
   ],
   "source": [
    "import scipy.stats as stats\n",
    "\n",
    "# Perform the t-test for ratings\n",
    "t_statistic_rating, p_value_rating = stats.ttest_ind(\n",
    "    rating_col_full_sample.astype(float), rating_col_ba.astype(float)\n",
    ")\n",
    "\n",
    "print(\"The t-statistic is {:.2f}\".format(t_statistic_rating))\n",
    "print(\"The p-value is {:.2e}\".format(p_value_rating))\n",
    "\n",
    "if p_value_rating < 0.05:\n",
    "    print(\n",
    "        \"The null hypothesis is rejected, the mean rating between the sample and the matched rb is different\"\n",
    "    )\n",
    "else:\n",
    "    print(\n",
    "        \"The null hypothesis is accepted, the difference between the rating for the sample and matched rb is not statistically significant\"\n",
    "    )"
   ]
  },
  {
   "cell_type": "code",
   "execution_count": null,
   "metadata": {},
   "outputs": [
    {
     "ename": "NameError",
     "evalue": "name 'rating_col_full_sample' is not defined",
     "output_type": "error",
     "traceback": [
      "\u001b[0;31m---------------------------------------------------------------------------\u001b[0m",
      "\u001b[0;31mNameError\u001b[0m                                 Traceback (most recent call last)",
      "\u001b[1;32m/Users/meline/Documents/Academic/EPFL/Master/MA1/ADA/RiskyBiscuits/ada-2023-project-riskybiscuits/example_notebook.ipynb Cell 48\u001b[0m line \u001b[0;36m1\n\u001b[0;32m----> <a href='vscode-notebook-cell:/Users/meline/Documents/Academic/EPFL/Master/MA1/ADA/RiskyBiscuits/ada-2023-project-riskybiscuits/example_notebook.ipynb#Y103sZmlsZQ%3D%3D?line=0'>1</a>\u001b[0m rating_col_full_sample \u001b[39m=\u001b[39m rating_col_full_sample\u001b[39m.\u001b[39mastype(\u001b[39mfloat\u001b[39m)\n\u001b[1;32m      <a href='vscode-notebook-cell:/Users/meline/Documents/Academic/EPFL/Master/MA1/ADA/RiskyBiscuits/ada-2023-project-riskybiscuits/example_notebook.ipynb#Y103sZmlsZQ%3D%3D?line=1'>2</a>\u001b[0m rating_col_ba \u001b[39m=\u001b[39m rating_col_ba\u001b[39m.\u001b[39mastype(\u001b[39mfloat\u001b[39m)\n\u001b[1;32m      <a href='vscode-notebook-cell:/Users/meline/Documents/Academic/EPFL/Master/MA1/ADA/RiskyBiscuits/ada-2023-project-riskybiscuits/example_notebook.ipynb#Y103sZmlsZQ%3D%3D?line=3'>4</a>\u001b[0m res_rating \u001b[39m=\u001b[39m t_statistic_rating, p_value_rating \u001b[39m=\u001b[39m stats\u001b[39m.\u001b[39mttest_ind(rating_col_full_sample, rating_col_ba)\n",
      "\u001b[0;31mNameError\u001b[0m: name 'rating_col_full_sample' is not defined"
     ]
    }
   ],
   "source": [
    "rating_col_full_sample = rating_col_full_sample.astype(float)\n",
    "rating_col_ba = rating_col_ba.astype(float)\n",
    "\n",
    "res_rating = t_statistic_rating, p_value_rating = stats.ttest_ind(\n",
    "    rating_col_full_sample, rating_col_ba\n",
    ")\n",
    "print(res_rating)"
   ]
  },
  {
   "cell_type": "code",
   "execution_count": null,
   "metadata": {},
   "outputs": [
    {
     "data": {
      "text/html": [
       "<div>\n",
       "<style scoped>\n",
       "    .dataframe tbody tr th:only-of-type {\n",
       "        vertical-align: middle;\n",
       "    }\n",
       "\n",
       "    .dataframe tbody tr th {\n",
       "        vertical-align: top;\n",
       "    }\n",
       "\n",
       "    .dataframe thead th {\n",
       "        text-align: right;\n",
       "    }\n",
       "</style>\n",
       "<table border=\"1\" class=\"dataframe\">\n",
       "  <thead>\n",
       "    <tr style=\"text-align: right;\">\n",
       "      <th></th>\n",
       "      <th>beer_name</th>\n",
       "      <th>beer_id</th>\n",
       "      <th>brewery_name</th>\n",
       "      <th>brewery_id</th>\n",
       "      <th>style</th>\n",
       "      <th>abv</th>\n",
       "      <th>date</th>\n",
       "      <th>user_name</th>\n",
       "      <th>user_id</th>\n",
       "      <th>appearance</th>\n",
       "      <th>aroma</th>\n",
       "      <th>palate</th>\n",
       "      <th>taste</th>\n",
       "      <th>overall</th>\n",
       "      <th>rating</th>\n",
       "      <th>text</th>\n",
       "      <th>review</th>\n",
       "    </tr>\n",
       "  </thead>\n",
       "  <tbody>\n",
       "    <tr>\n",
       "      <th>0</th>\n",
       "      <td>Régab</td>\n",
       "      <td>142544</td>\n",
       "      <td>Societe des Brasseries du Gabon (SOBRAGA)</td>\n",
       "      <td>37262</td>\n",
       "      <td>Euro Pale Lager</td>\n",
       "      <td>4.5</td>\n",
       "      <td>1440064800</td>\n",
       "      <td>nmann08</td>\n",
       "      <td>nmann08.184925</td>\n",
       "      <td>3.25</td>\n",
       "      <td>2.75</td>\n",
       "      <td>3.25</td>\n",
       "      <td>2.75</td>\n",
       "      <td>3.0</td>\n",
       "      <td>2.88</td>\n",
       "      <td>From a bottle, pours a piss yellow color with ...</td>\n",
       "      <td>True</td>\n",
       "    </tr>\n",
       "    <tr>\n",
       "      <th>1</th>\n",
       "      <td>Barelegs Brew</td>\n",
       "      <td>19590</td>\n",
       "      <td>Strangford Lough Brewing Company Ltd</td>\n",
       "      <td>10093</td>\n",
       "      <td>English Pale Ale</td>\n",
       "      <td>4.5</td>\n",
       "      <td>1235127600</td>\n",
       "      <td>StJamesGate</td>\n",
       "      <td>stjamesgate.163714</td>\n",
       "      <td>3.0</td>\n",
       "      <td>3.5</td>\n",
       "      <td>3.5</td>\n",
       "      <td>4.0</td>\n",
       "      <td>3.5</td>\n",
       "      <td>3.67</td>\n",
       "      <td>Pours pale copper with a thin head that quickl...</td>\n",
       "      <td>True</td>\n",
       "    </tr>\n",
       "    <tr>\n",
       "      <th>2</th>\n",
       "      <td>Barelegs Brew</td>\n",
       "      <td>19590</td>\n",
       "      <td>Strangford Lough Brewing Company Ltd</td>\n",
       "      <td>10093</td>\n",
       "      <td>English Pale Ale</td>\n",
       "      <td>4.5</td>\n",
       "      <td>1142247600</td>\n",
       "      <td>mdagnew</td>\n",
       "      <td>mdagnew.19527</td>\n",
       "      <td>4.0</td>\n",
       "      <td>3.5</td>\n",
       "      <td>3.5</td>\n",
       "      <td>4.0</td>\n",
       "      <td>3.5</td>\n",
       "      <td>3.73</td>\n",
       "      <td>500ml Bottle bought from The Vintage, Antrim.....</td>\n",
       "      <td>True</td>\n",
       "    </tr>\n",
       "    <tr>\n",
       "      <th>3</th>\n",
       "      <td>Barelegs Brew</td>\n",
       "      <td>19590</td>\n",
       "      <td>Strangford Lough Brewing Company Ltd</td>\n",
       "      <td>10093</td>\n",
       "      <td>English Pale Ale</td>\n",
       "      <td>4.5</td>\n",
       "      <td>1101898800</td>\n",
       "      <td>helloloser12345</td>\n",
       "      <td>helloloser12345.10867</td>\n",
       "      <td>4.0</td>\n",
       "      <td>3.5</td>\n",
       "      <td>4.0</td>\n",
       "      <td>4.0</td>\n",
       "      <td>4.5</td>\n",
       "      <td>3.98</td>\n",
       "      <td>Serving: 500ml brown bottlePour: Good head wit...</td>\n",
       "      <td>True</td>\n",
       "    </tr>\n",
       "    <tr>\n",
       "      <th>4</th>\n",
       "      <td>Barelegs Brew</td>\n",
       "      <td>19590</td>\n",
       "      <td>Strangford Lough Brewing Company Ltd</td>\n",
       "      <td>10093</td>\n",
       "      <td>English Pale Ale</td>\n",
       "      <td>4.5</td>\n",
       "      <td>1093860000</td>\n",
       "      <td>cypressbob</td>\n",
       "      <td>cypressbob.3708</td>\n",
       "      <td>4.0</td>\n",
       "      <td>4.0</td>\n",
       "      <td>4.0</td>\n",
       "      <td>4.0</td>\n",
       "      <td>4.0</td>\n",
       "      <td>4.00</td>\n",
       "      <td>500ml bottlePours with a light, slightly hazy ...</td>\n",
       "      <td>True</td>\n",
       "    </tr>\n",
       "  </tbody>\n",
       "</table>\n",
       "</div>"
      ],
      "text/plain": [
       "       beer_name beer_id                               brewery_name  \\\n",
       "0          Régab  142544  Societe des Brasseries du Gabon (SOBRAGA)   \n",
       "1  Barelegs Brew   19590       Strangford Lough Brewing Company Ltd   \n",
       "2  Barelegs Brew   19590       Strangford Lough Brewing Company Ltd   \n",
       "3  Barelegs Brew   19590       Strangford Lough Brewing Company Ltd   \n",
       "4  Barelegs Brew   19590       Strangford Lough Brewing Company Ltd   \n",
       "\n",
       "  brewery_id             style  abv        date        user_name  \\\n",
       "0      37262   Euro Pale Lager  4.5  1440064800          nmann08   \n",
       "1      10093  English Pale Ale  4.5  1235127600      StJamesGate   \n",
       "2      10093  English Pale Ale  4.5  1142247600          mdagnew   \n",
       "3      10093  English Pale Ale  4.5  1101898800  helloloser12345   \n",
       "4      10093  English Pale Ale  4.5  1093860000       cypressbob   \n",
       "\n",
       "                 user_id appearance aroma palate taste overall rating  \\\n",
       "0         nmann08.184925       3.25  2.75   3.25  2.75     3.0   2.88   \n",
       "1     stjamesgate.163714        3.0   3.5    3.5   4.0     3.5   3.67   \n",
       "2          mdagnew.19527        4.0   3.5    3.5   4.0     3.5   3.73   \n",
       "3  helloloser12345.10867        4.0   3.5    4.0   4.0     4.5   3.98   \n",
       "4        cypressbob.3708        4.0   4.0    4.0   4.0     4.0   4.00   \n",
       "\n",
       "                                                text review  \n",
       "0  From a bottle, pours a piss yellow color with ...   True  \n",
       "1  Pours pale copper with a thin head that quickl...   True  \n",
       "2  500ml Bottle bought from The Vintage, Antrim.....   True  \n",
       "3  Serving: 500ml brown bottlePour: Good head wit...   True  \n",
       "4  500ml bottlePours with a light, slightly hazy ...   True  "
      ]
     },
     "execution_count": 16,
     "metadata": {},
     "output_type": "execute_result"
    }
   ],
   "source": [
    "full_ratings_ba.head()"
   ]
  },
  {
   "cell_type": "code",
   "execution_count": null,
   "metadata": {},
   "outputs": [
    {
     "data": {
      "image/png": "[encoded data removed]",
      "text/plain": [
       "<Figure size 1000x400 with 2 Axes>"
      ]
     },
     "metadata": {},
     "output_type": "display_data"
    }
   ],
   "source": [
    "# Compare the appearance ratings\n",
    "\n",
    "app_col_full_sample = make_sample_ba(\"appearance\")\n",
    "app_col_full_sample = app_col_full_sample.dropna()\n",
    "app_col_ba = ratings_ba[\"appearance\"]\n",
    "app_col_ba = app_col_ba.dropna()\n",
    "make_plots(\n",
    "    app_col_full_sample, app_col_ba, \"Histogram of appearance\", \"Boxplot of appearance\"\n",
    ")"
   ]
  },
  {
   "cell_type": "code",
   "execution_count": null,
   "metadata": {},
   "outputs": [
    {
     "name": "stdout",
     "output_type": "stream",
     "text": [
      "The t-statistic is nan\n",
      "The p-value is nan\n",
      "The null hypothesis is accepted, the difference between the appearance rating for the sample and matched rb is not statistically significant\n"
     ]
    }
   ],
   "source": [
    "import scipy.stats as stats\n",
    "\n",
    "# Perform the t-test for ratings\n",
    "t_statistic_app, p_value_app = stats.ttest_ind(\n",
    "    app_col_full_sample.astype(float), app_col_ba.astype(float)\n",
    ")\n",
    "\n",
    "print(\"The t-statistic is {:.2f}\".format(t_statistic_app))\n",
    "print(\"The p-value is {:.2e}\".format(p_value_app))\n",
    "\n",
    "if p_value_app < 0.05:\n",
    "    print(\n",
    "        \"The null hypothesis is rejected, the mean appearance rating between the sample and the matched rb is different\"\n",
    "    )\n",
    "else:\n",
    "    print(\n",
    "        \"The null hypothesis is accepted, the difference between the appearance rating for the sample and matched rb is not statistically significant\"\n",
    "    )"
   ]
  },
  {
   "cell_type": "markdown",
   "metadata": {},
   "source": [
    "# Check amount of reviews per beer"
   ]
  },
  {
   "cell_type": "code",
   "execution_count": 54,
   "metadata": {},
   "outputs": [
    {
     "name": "stderr",
     "output_type": "stream",
     "text": [
      "/var/folders/0g/yd41q8010pn2lvl2qx960v240000gn/T/ipykernel_18594/2137015074.py:2: DtypeWarning: Columns (0,1,2,3,4,5,8,10,11,12,13,15,16,17,18,19,20,23,25,26,27,29,30,31,32) have mixed types. Specify dtype option on import or set low_memory=False.\n",
      "  matched_beers = pd.read_csv(DATA_PATH / 'matched_beer_data/beers.csv')\n"
     ]
    }
   ],
   "source": [
    "# Load\n",
    "matched_beers = pd.read_csv(DATA_PATH / 'matched_beer_data/beers.csv')\n",
    "ba_beers = pd.read_csv(DATA_PATH / 'BeerAdvocate/beers.csv')\n",
    "rb_beers = pd.read_csv(DATA_PATH / 'RateBeer/beers.csv')"
   ]
  },
  {
   "cell_type": "markdown",
   "metadata": {},
   "source": [
    "## Plots for matched data"
   ]
  },
  {
   "cell_type": "code",
   "execution_count": 50,
   "metadata": {},
   "outputs": [
    {
     "name": "stderr",
     "output_type": "stream",
     "text": [
      "/var/folders/0g/yd41q8010pn2lvl2qx960v240000gn/T/ipykernel_18594/856510412.py:1: DtypeWarning: Columns (0,1,2,3,4,5,8,10,11,12,13,15,16,17,18,19,20,23,25,26,27,29,30,31,32) have mixed types. Specify dtype option on import or set low_memory=False.\n",
      "  matched_beers = pd.read_csv(DATA_PATH / 'matched_beer_data/beers.csv')\n"
     ]
    },
    {
     "data": {
      "image/png": "[encoded data removed]",
      "text/plain": [
       "<Figure size 1000x400 with 2 Axes>"
      ]
     },
     "metadata": {},
     "output_type": "display_data"
    }
   ],
   "source": [
    "columns_nbr_ratings = matched_beers.iloc[0] == 'nbr_matched_valid_ratings'\n",
    "# Use the columns_nbr_ratings to get the columns with the number of ratings\n",
    "columns_nbr_ratings = columns_nbr_ratings[columns_nbr_ratings == True]\n",
    "nbr_ratings = matched_beers[columns_nbr_ratings.index].iloc[1:].astype(int)\n",
    "\n",
    "nbr_ratings['total'] = nbr_ratings.sum(axis=1)\n",
    "\n",
    "df_10_rev = nbr_ratings[nbr_ratings['total'] >= 10].copy()\n",
    "df_100_rev = nbr_ratings[nbr_ratings['total'] >= 100].copy()\n",
    "    \n",
    "fig, ax = plt.subplots(1, 2, figsize=(10, 4), sharey = False, sharex = False)\n",
    "sns.histplot(df_10_rev['total'], bins=100, ax=ax[0])\n",
    "sns.histplot(df_100_rev['total'], bins=100, ax=ax[1])\n",
    "ax[0].set_yscale('log')\n",
    "ax[1].set_yscale('log')\n",
    "# Use same y axis from first plot for both plots\n",
    "ax[1].set_ylim(ax[0].get_ylim())\n",
    "ax[0].set_xlabel('Number of ratings')\n",
    "ax[0].set_ylabel('Number of beers')\n",
    "ax[1].set_xlabel('Number of ratings')\n",
    "ax[1].set_ylabel('Number of beers')\n",
    "ax[0].set_title('Distribution of number of ratings per beer (>= 10 ratings)')\n",
    "ax[1].set_title('Distribution of number of ratings per beer (>= 100 ratings)')\n",
    "\n",
    "plt.tight_layout()\n",
    "\n",
    "plt.show()"
   ]
  },
  {
   "cell_type": "markdown",
   "metadata": {},
   "source": [
    "## Plots for BeerAdvocate data"
   ]
  },
  {
   "cell_type": "code",
   "execution_count": 63,
   "metadata": {},
   "outputs": [
    {
     "data": {
      "image/png": "[encoded data removed]",
      "text/plain": [
       "<Figure size 1000x400 with 2 Axes>"
      ]
     },
     "metadata": {},
     "output_type": "display_data"
    }
   ],
   "source": [
    "reviews_per_beer = ba_beers['nbr_ratings']\n",
    "\n",
    "df_10_rev = reviews_per_beer[reviews_per_beer >= 10].copy()\n",
    "df_100_rev = reviews_per_beer[reviews_per_beer >= 100].copy()\n",
    "\n",
    "fig, ax = plt.subplots(1, 2, figsize=(10, 4), sharey =  False, sharex = False)\n",
    "sns.histplot(df_10_rev, bins=100, ax=ax[0])\n",
    "sns.histplot(df_100_rev, bins=100, ax=ax[1])\n",
    "ax[0].set_yscale('log')\n",
    "ax[1].set_yscale('log')\n",
    "# Use same y axis from first plot for both plots\n",
    "ax[1].set_ylim(ax[0].get_ylim())\n",
    "ax[0].set_xlabel('Number of reviews')\n",
    "ax[0].set_ylabel('Number of beers')\n",
    "ax[1].set_xlabel('Number of reviews')\n",
    "ax[1].set_ylabel('Number of beers')\n",
    "ax[0].set_title('Distribution of number of reviews per beer (>= 10 reviews)')\n",
    "ax[1].set_title('Distribution of number of reviews per beer (>= 100 reviews)')\n",
    "plt.tight_layout()\n",
    "plt.show()"
   ]
  },
  {
   "cell_type": "markdown",
   "metadata": {},
   "source": [
    "## Plots for RateBeer data"
   ]
  },
  {
   "cell_type": "code",
   "execution_count": 62,
   "metadata": {},
   "outputs": [
    {
     "data": {
      "image/png": "[encoded data removed]",
      "text/plain": [
       "<Figure size 1000x400 with 2 Axes>"
      ]
     },
     "metadata": {},
     "output_type": "display_data"
    }
   ],
   "source": [
    "reviews_per_beer = ba_beers['nbr_ratings']\n",
    "\n",
    "df_10_rev = reviews_per_beer[reviews_per_beer >= 10].copy()\n",
    "df_100_rev = reviews_per_beer[reviews_per_beer >= 100].copy()\n",
    "    \n",
    "fig, ax = plt.subplots(1, 2, figsize=(10, 4), sharey = False, sharex = False)\n",
    "sns.histplot(df_10_rev, bins=100, ax=ax[0])\n",
    "sns.histplot(df_100_rev, bins=100, ax=ax[1])\n",
    "ax[0].set_yscale('log')\n",
    "ax[1].set_yscale('log')\n",
    "# Use same y axis from first plot for both plots\n",
    "ax[1].set_ylim(ax[0].get_ylim())\n",
    "ax[0].set_xlabel('Number of ratings')\n",
    "ax[0].set_ylabel('Number of beers')\n",
    "ax[1].set_xlabel('Number of ratings')\n",
    "ax[1].set_ylabel('Number of beers')\n",
    "ax[0].set_title('Distribution of number of ratings per beer (>= 10 ratings)')\n",
    "ax[1].set_title('Distribution of number of ratings per beer (>= 100 ratings)')\n",
    "\n",
    "plt.tight_layout()\n",
    "\n",
    "plt.show()\n"
   ]
  },
  {
   "cell_type": "markdown",
   "metadata": {},
   "source": [
    "# Amount of countries"
   ]
  },
  {
   "cell_type": "code",
   "execution_count": 75,
   "metadata": {},
   "outputs": [
    {
     "name": "stdout",
     "output_type": "stream",
     "text": [
      "Amount of different location of breweries: 205\n"
     ]
    }
   ],
   "source": [
    "breweries = pd.read_csv(DATA_PATH / 'matched_beer_data/breweries.csv')\n",
    "\n",
    "# use first line as column names\n",
    "breweries.columns = breweries.iloc[0]\n",
    "# remove first line\n",
    "breweries = breweries.iloc[1:]\n",
    "\n",
    "print(\"Amount of different location of breweries: {}\".format(breweries['location'].nunique()[0]))"
   ]
  },
  {
   "cell_type": "code",
   "execution_count": 78,
   "metadata": {},
   "outputs": [
    {
     "name": "stdout",
     "output_type": "stream",
     "text": [
      "Amount of different location of users: 110\n"
     ]
    }
   ],
   "source": [
    "users = pd.read_csv(DATA_PATH / 'matched_beer_data/users.csv')\n",
    "\n",
    "users.columns = users.iloc[0]\n",
    "users = users.iloc[1:]\n",
    "\n",
    "print(\"Amount of different location of users: {}\".format(users['location'].nunique()[0]))"
   ]
  },
  {
   "cell_type": "code",
   "execution_count": null,
   "metadata": {},
   "outputs": [],
   "source": []
  }
 ],
 "metadata": {
  "kernelspec": {
   "display_name": "Python 3",
   "language": "python",
   "name": "python3"
  },
  "language_info": {
   "codemirror_mode": {
    "name": "ipython",
    "version": 3
   },
   "file_extension": ".py",
   "mimetype": "text/x-python",
   "name": "python",
   "nbconvert_exporter": "python",
   "pygments_lexer": "ipython3",
   "version": "3.11.6"
  }
 },
 "nbformat": 4,
 "nbformat_minor": 2
}
