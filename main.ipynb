{
 "cells": [
  {
   "cell_type": "markdown",
   "metadata": {},
   "source": [
    "# TITLE"
   ]
  },
  {
   "cell_type": "markdown",
   "metadata": {},
   "source": [
    "Little text to explain main idea"
   ]
  },
  {
   "cell_type": "markdown",
   "metadata": {},
   "source": [
    "## 1) Loading data and basic analysis\n",
    "\n",
    "Could contain, how many rows, columns, missing values, etc.\n",
    "\n",
    "### Data cleaning\n",
    "\n",
    "Drop fill missing values, etc."
   ]
  },
  {
   "cell_type": "markdown",
   "metadata": {},
   "source": [
    "## 2) First analysis : how beers from one country are rated (reviewed)\n",
    "\n",
    "### Data cleaning\n",
    "\n",
    "Remove any beers with < 10 reviews, then aggregate by country, then remove any countries with < 10 beers\n",
    "\n",
    "### Analysis\n",
    "\n",
    "Compute some averages for countries, plot them, say there are some diff so we want to investigate\n",
    "\n",
    "Also do wordclouds for each country using the adjective datasets\n",
    "\n",
    "Discuss the climate map, how it could be used but only if time allows it"
   ]
  },
  {
   "cell_type": "markdown",
   "metadata": {},
   "source": [
    "## 3) Second analysis : how users from one country rate beers\n",
    "\n",
    "### Data cleaning\n",
    "\n",
    "Remove any users with < 10 reviews, then aggregate by country, then remove any countries with < 10 users\n",
    "\n",
    "le 10 c'est un peu arbitraire, mais c'est pour éviter d'avoir des pays avec 1 ou 2 users qui ont mis 5 étoiles à une bière et donc qui faussent les moyennes\n",
    "\n",
    "### Analysis\n",
    "\n",
    "Compute some averages for countries, plot them, say there are some diff so we want to investigate\n",
    "Potentially also wordclouds, here because we explained the dataset in part 2, just say \"we gonna do the same\""
   ]
  },
  {
   "cell_type": "markdown",
   "metadata": {},
   "source": []
  }
 ],
 "metadata": {
  "kernelspec": {
   "display_name": "ada",
   "language": "python",
   "name": "python3"
  },
  "language_info": {
   "codemirror_mode": {
    "name": "ipython",
    "version": 3
   },
   "file_extension": ".py",
   "mimetype": "text/x-python",
   "name": "python",
   "nbconvert_exporter": "python",
   "pygments_lexer": "ipython3",
   "version": "3.9.18"
  }
 },
 "nbformat": 4,
 "nbformat_minor": 2
}
